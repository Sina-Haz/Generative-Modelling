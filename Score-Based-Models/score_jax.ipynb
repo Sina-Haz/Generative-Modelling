{
  "nbformat": 4,
  "nbformat_minor": 0,
  "metadata": {
    "colab": {
      "provenance": [],
      "authorship_tag": "ABX9TyOF+Rg5LR1W3lsVrukmOtrY",
      "include_colab_link": true
    },
    "kernelspec": {
      "name": "python3",
      "display_name": "Python 3"
    },
    "language_info": {
      "name": "python"
    },
    "widgets": {
      "application/vnd.jupyter.widget-state+json": {
        "a119379f7069476fb31944841c1eabe9": {
          "model_module": "@jupyter-widgets/controls",
          "model_name": "HBoxModel",
          "model_module_version": "1.5.0",
          "state": {
            "_dom_classes": [],
            "_model_module": "@jupyter-widgets/controls",
            "_model_module_version": "1.5.0",
            "_model_name": "HBoxModel",
            "_view_count": null,
            "_view_module": "@jupyter-widgets/controls",
            "_view_module_version": "1.5.0",
            "_view_name": "HBoxView",
            "box_style": "",
            "children": [
              "IPY_MODEL_45a4d0d26b844f929d60f89ffb0a4169",
              "IPY_MODEL_e9d57465e11a43eea8123ae7e52bbaa9",
              "IPY_MODEL_dd5f682225b84efbb6c359a2c33318f9"
            ],
            "layout": "IPY_MODEL_b3b3c65fce3641388f11e6e4d16facd7"
          }
        },
        "45a4d0d26b844f929d60f89ffb0a4169": {
          "model_module": "@jupyter-widgets/controls",
          "model_name": "HTMLModel",
          "model_module_version": "1.5.0",
          "state": {
            "_dom_classes": [],
            "_model_module": "@jupyter-widgets/controls",
            "_model_module_version": "1.5.0",
            "_model_name": "HTMLModel",
            "_view_count": null,
            "_view_module": "@jupyter-widgets/controls",
            "_view_module_version": "1.5.0",
            "_view_name": "HTMLView",
            "description": "",
            "description_tooltip": null,
            "layout": "IPY_MODEL_f6d5fdbc036641c88530af5813fbc2f4",
            "placeholder": "​",
            "style": "IPY_MODEL_9548e8021bfd48769169fb2aa426b84e",
            "value": "100%"
          }
        },
        "e9d57465e11a43eea8123ae7e52bbaa9": {
          "model_module": "@jupyter-widgets/controls",
          "model_name": "FloatProgressModel",
          "model_module_version": "1.5.0",
          "state": {
            "_dom_classes": [],
            "_model_module": "@jupyter-widgets/controls",
            "_model_module_version": "1.5.0",
            "_model_name": "FloatProgressModel",
            "_view_count": null,
            "_view_module": "@jupyter-widgets/controls",
            "_view_module_version": "1.5.0",
            "_view_name": "ProgressView",
            "bar_style": "success",
            "description": "",
            "description_tooltip": null,
            "layout": "IPY_MODEL_b109644f4f34491785baa9391d6e5e8e",
            "max": 2000,
            "min": 0,
            "orientation": "horizontal",
            "style": "IPY_MODEL_bd3b898629844cfc9032251ff96648cb",
            "value": 2000
          }
        },
        "dd5f682225b84efbb6c359a2c33318f9": {
          "model_module": "@jupyter-widgets/controls",
          "model_name": "HTMLModel",
          "model_module_version": "1.5.0",
          "state": {
            "_dom_classes": [],
            "_model_module": "@jupyter-widgets/controls",
            "_model_module_version": "1.5.0",
            "_model_name": "HTMLModel",
            "_view_count": null,
            "_view_module": "@jupyter-widgets/controls",
            "_view_module_version": "1.5.0",
            "_view_name": "HTMLView",
            "description": "",
            "description_tooltip": null,
            "layout": "IPY_MODEL_b57e84fa71154067b14e2d1fa4d43cb9",
            "placeholder": "​",
            "style": "IPY_MODEL_818d964e49744bb3be9cb799e4a80e6d",
            "value": " 2000/2000 [00:03&lt;00:00, 851.52it/s]"
          }
        },
        "b3b3c65fce3641388f11e6e4d16facd7": {
          "model_module": "@jupyter-widgets/base",
          "model_name": "LayoutModel",
          "model_module_version": "1.2.0",
          "state": {
            "_model_module": "@jupyter-widgets/base",
            "_model_module_version": "1.2.0",
            "_model_name": "LayoutModel",
            "_view_count": null,
            "_view_module": "@jupyter-widgets/base",
            "_view_module_version": "1.2.0",
            "_view_name": "LayoutView",
            "align_content": null,
            "align_items": null,
            "align_self": null,
            "border": null,
            "bottom": null,
            "display": null,
            "flex": null,
            "flex_flow": null,
            "grid_area": null,
            "grid_auto_columns": null,
            "grid_auto_flow": null,
            "grid_auto_rows": null,
            "grid_column": null,
            "grid_gap": null,
            "grid_row": null,
            "grid_template_areas": null,
            "grid_template_columns": null,
            "grid_template_rows": null,
            "height": null,
            "justify_content": null,
            "justify_items": null,
            "left": null,
            "margin": null,
            "max_height": null,
            "max_width": null,
            "min_height": null,
            "min_width": null,
            "object_fit": null,
            "object_position": null,
            "order": null,
            "overflow": null,
            "overflow_x": null,
            "overflow_y": null,
            "padding": null,
            "right": null,
            "top": null,
            "visibility": null,
            "width": null
          }
        },
        "f6d5fdbc036641c88530af5813fbc2f4": {
          "model_module": "@jupyter-widgets/base",
          "model_name": "LayoutModel",
          "model_module_version": "1.2.0",
          "state": {
            "_model_module": "@jupyter-widgets/base",
            "_model_module_version": "1.2.0",
            "_model_name": "LayoutModel",
            "_view_count": null,
            "_view_module": "@jupyter-widgets/base",
            "_view_module_version": "1.2.0",
            "_view_name": "LayoutView",
            "align_content": null,
            "align_items": null,
            "align_self": null,
            "border": null,
            "bottom": null,
            "display": null,
            "flex": null,
            "flex_flow": null,
            "grid_area": null,
            "grid_auto_columns": null,
            "grid_auto_flow": null,
            "grid_auto_rows": null,
            "grid_column": null,
            "grid_gap": null,
            "grid_row": null,
            "grid_template_areas": null,
            "grid_template_columns": null,
            "grid_template_rows": null,
            "height": null,
            "justify_content": null,
            "justify_items": null,
            "left": null,
            "margin": null,
            "max_height": null,
            "max_width": null,
            "min_height": null,
            "min_width": null,
            "object_fit": null,
            "object_position": null,
            "order": null,
            "overflow": null,
            "overflow_x": null,
            "overflow_y": null,
            "padding": null,
            "right": null,
            "top": null,
            "visibility": null,
            "width": null
          }
        },
        "9548e8021bfd48769169fb2aa426b84e": {
          "model_module": "@jupyter-widgets/controls",
          "model_name": "DescriptionStyleModel",
          "model_module_version": "1.5.0",
          "state": {
            "_model_module": "@jupyter-widgets/controls",
            "_model_module_version": "1.5.0",
            "_model_name": "DescriptionStyleModel",
            "_view_count": null,
            "_view_module": "@jupyter-widgets/base",
            "_view_module_version": "1.2.0",
            "_view_name": "StyleView",
            "description_width": ""
          }
        },
        "b109644f4f34491785baa9391d6e5e8e": {
          "model_module": "@jupyter-widgets/base",
          "model_name": "LayoutModel",
          "model_module_version": "1.2.0",
          "state": {
            "_model_module": "@jupyter-widgets/base",
            "_model_module_version": "1.2.0",
            "_model_name": "LayoutModel",
            "_view_count": null,
            "_view_module": "@jupyter-widgets/base",
            "_view_module_version": "1.2.0",
            "_view_name": "LayoutView",
            "align_content": null,
            "align_items": null,
            "align_self": null,
            "border": null,
            "bottom": null,
            "display": null,
            "flex": null,
            "flex_flow": null,
            "grid_area": null,
            "grid_auto_columns": null,
            "grid_auto_flow": null,
            "grid_auto_rows": null,
            "grid_column": null,
            "grid_gap": null,
            "grid_row": null,
            "grid_template_areas": null,
            "grid_template_columns": null,
            "grid_template_rows": null,
            "height": null,
            "justify_content": null,
            "justify_items": null,
            "left": null,
            "margin": null,
            "max_height": null,
            "max_width": null,
            "min_height": null,
            "min_width": null,
            "object_fit": null,
            "object_position": null,
            "order": null,
            "overflow": null,
            "overflow_x": null,
            "overflow_y": null,
            "padding": null,
            "right": null,
            "top": null,
            "visibility": null,
            "width": null
          }
        },
        "bd3b898629844cfc9032251ff96648cb": {
          "model_module": "@jupyter-widgets/controls",
          "model_name": "ProgressStyleModel",
          "model_module_version": "1.5.0",
          "state": {
            "_model_module": "@jupyter-widgets/controls",
            "_model_module_version": "1.5.0",
            "_model_name": "ProgressStyleModel",
            "_view_count": null,
            "_view_module": "@jupyter-widgets/base",
            "_view_module_version": "1.2.0",
            "_view_name": "StyleView",
            "bar_color": null,
            "description_width": ""
          }
        },
        "b57e84fa71154067b14e2d1fa4d43cb9": {
          "model_module": "@jupyter-widgets/base",
          "model_name": "LayoutModel",
          "model_module_version": "1.2.0",
          "state": {
            "_model_module": "@jupyter-widgets/base",
            "_model_module_version": "1.2.0",
            "_model_name": "LayoutModel",
            "_view_count": null,
            "_view_module": "@jupyter-widgets/base",
            "_view_module_version": "1.2.0",
            "_view_name": "LayoutView",
            "align_content": null,
            "align_items": null,
            "align_self": null,
            "border": null,
            "bottom": null,
            "display": null,
            "flex": null,
            "flex_flow": null,
            "grid_area": null,
            "grid_auto_columns": null,
            "grid_auto_flow": null,
            "grid_auto_rows": null,
            "grid_column": null,
            "grid_gap": null,
            "grid_row": null,
            "grid_template_areas": null,
            "grid_template_columns": null,
            "grid_template_rows": null,
            "height": null,
            "justify_content": null,
            "justify_items": null,
            "left": null,
            "margin": null,
            "max_height": null,
            "max_width": null,
            "min_height": null,
            "min_width": null,
            "object_fit": null,
            "object_position": null,
            "order": null,
            "overflow": null,
            "overflow_x": null,
            "overflow_y": null,
            "padding": null,
            "right": null,
            "top": null,
            "visibility": null,
            "width": null
          }
        },
        "818d964e49744bb3be9cb799e4a80e6d": {
          "model_module": "@jupyter-widgets/controls",
          "model_name": "DescriptionStyleModel",
          "model_module_version": "1.5.0",
          "state": {
            "_model_module": "@jupyter-widgets/controls",
            "_model_module_version": "1.5.0",
            "_model_name": "DescriptionStyleModel",
            "_view_count": null,
            "_view_module": "@jupyter-widgets/base",
            "_view_module_version": "1.2.0",
            "_view_name": "StyleView",
            "description_width": ""
          }
        },
        "4c07b10ffdc843c3a7df3ecc60653709": {
          "model_module": "@jupyter-widgets/controls",
          "model_name": "HBoxModel",
          "model_module_version": "1.5.0",
          "state": {
            "_dom_classes": [],
            "_model_module": "@jupyter-widgets/controls",
            "_model_module_version": "1.5.0",
            "_model_name": "HBoxModel",
            "_view_count": null,
            "_view_module": "@jupyter-widgets/controls",
            "_view_module_version": "1.5.0",
            "_view_name": "HBoxView",
            "box_style": "",
            "children": [
              "IPY_MODEL_07bb8cb9227448758261cd518b985616",
              "IPY_MODEL_8bd8239b33fd4975aed04ea5460ddfb0",
              "IPY_MODEL_517b0637e7a343a0841915df39f0e4e4"
            ],
            "layout": "IPY_MODEL_764dd04b87e44cd08be32e0fbd1bb796"
          }
        },
        "07bb8cb9227448758261cd518b985616": {
          "model_module": "@jupyter-widgets/controls",
          "model_name": "HTMLModel",
          "model_module_version": "1.5.0",
          "state": {
            "_dom_classes": [],
            "_model_module": "@jupyter-widgets/controls",
            "_model_module_version": "1.5.0",
            "_model_name": "HTMLModel",
            "_view_count": null,
            "_view_module": "@jupyter-widgets/controls",
            "_view_module_version": "1.5.0",
            "_view_name": "HTMLView",
            "description": "",
            "description_tooltip": null,
            "layout": "IPY_MODEL_6f9c6c52f9f24a109ba531563cf5908b",
            "placeholder": "​",
            "style": "IPY_MODEL_581a86dfc3bb4f7e8e68c9426eb787ab",
            "value": "100%"
          }
        },
        "8bd8239b33fd4975aed04ea5460ddfb0": {
          "model_module": "@jupyter-widgets/controls",
          "model_name": "FloatProgressModel",
          "model_module_version": "1.5.0",
          "state": {
            "_dom_classes": [],
            "_model_module": "@jupyter-widgets/controls",
            "_model_module_version": "1.5.0",
            "_model_name": "FloatProgressModel",
            "_view_count": null,
            "_view_module": "@jupyter-widgets/controls",
            "_view_module_version": "1.5.0",
            "_view_name": "ProgressView",
            "bar_style": "success",
            "description": "",
            "description_tooltip": null,
            "layout": "IPY_MODEL_dadbb68856a5403e95f7b01b84b4d9e3",
            "max": 2000,
            "min": 0,
            "orientation": "horizontal",
            "style": "IPY_MODEL_037d3b74ab9947b784ce52a5f914cebe",
            "value": 2000
          }
        },
        "517b0637e7a343a0841915df39f0e4e4": {
          "model_module": "@jupyter-widgets/controls",
          "model_name": "HTMLModel",
          "model_module_version": "1.5.0",
          "state": {
            "_dom_classes": [],
            "_model_module": "@jupyter-widgets/controls",
            "_model_module_version": "1.5.0",
            "_model_name": "HTMLModel",
            "_view_count": null,
            "_view_module": "@jupyter-widgets/controls",
            "_view_module_version": "1.5.0",
            "_view_name": "HTMLView",
            "description": "",
            "description_tooltip": null,
            "layout": "IPY_MODEL_ef32390d03154d4fb577e2222f56db9a",
            "placeholder": "​",
            "style": "IPY_MODEL_37f0eebda5584db192ab79395cd68164",
            "value": " 2000/2000 [00:37&lt;00:00, 53.61it/s]"
          }
        },
        "764dd04b87e44cd08be32e0fbd1bb796": {
          "model_module": "@jupyter-widgets/base",
          "model_name": "LayoutModel",
          "model_module_version": "1.2.0",
          "state": {
            "_model_module": "@jupyter-widgets/base",
            "_model_module_version": "1.2.0",
            "_model_name": "LayoutModel",
            "_view_count": null,
            "_view_module": "@jupyter-widgets/base",
            "_view_module_version": "1.2.0",
            "_view_name": "LayoutView",
            "align_content": null,
            "align_items": null,
            "align_self": null,
            "border": null,
            "bottom": null,
            "display": null,
            "flex": null,
            "flex_flow": null,
            "grid_area": null,
            "grid_auto_columns": null,
            "grid_auto_flow": null,
            "grid_auto_rows": null,
            "grid_column": null,
            "grid_gap": null,
            "grid_row": null,
            "grid_template_areas": null,
            "grid_template_columns": null,
            "grid_template_rows": null,
            "height": null,
            "justify_content": null,
            "justify_items": null,
            "left": null,
            "margin": null,
            "max_height": null,
            "max_width": null,
            "min_height": null,
            "min_width": null,
            "object_fit": null,
            "object_position": null,
            "order": null,
            "overflow": null,
            "overflow_x": null,
            "overflow_y": null,
            "padding": null,
            "right": null,
            "top": null,
            "visibility": null,
            "width": null
          }
        },
        "6f9c6c52f9f24a109ba531563cf5908b": {
          "model_module": "@jupyter-widgets/base",
          "model_name": "LayoutModel",
          "model_module_version": "1.2.0",
          "state": {
            "_model_module": "@jupyter-widgets/base",
            "_model_module_version": "1.2.0",
            "_model_name": "LayoutModel",
            "_view_count": null,
            "_view_module": "@jupyter-widgets/base",
            "_view_module_version": "1.2.0",
            "_view_name": "LayoutView",
            "align_content": null,
            "align_items": null,
            "align_self": null,
            "border": null,
            "bottom": null,
            "display": null,
            "flex": null,
            "flex_flow": null,
            "grid_area": null,
            "grid_auto_columns": null,
            "grid_auto_flow": null,
            "grid_auto_rows": null,
            "grid_column": null,
            "grid_gap": null,
            "grid_row": null,
            "grid_template_areas": null,
            "grid_template_columns": null,
            "grid_template_rows": null,
            "height": null,
            "justify_content": null,
            "justify_items": null,
            "left": null,
            "margin": null,
            "max_height": null,
            "max_width": null,
            "min_height": null,
            "min_width": null,
            "object_fit": null,
            "object_position": null,
            "order": null,
            "overflow": null,
            "overflow_x": null,
            "overflow_y": null,
            "padding": null,
            "right": null,
            "top": null,
            "visibility": null,
            "width": null
          }
        },
        "581a86dfc3bb4f7e8e68c9426eb787ab": {
          "model_module": "@jupyter-widgets/controls",
          "model_name": "DescriptionStyleModel",
          "model_module_version": "1.5.0",
          "state": {
            "_model_module": "@jupyter-widgets/controls",
            "_model_module_version": "1.5.0",
            "_model_name": "DescriptionStyleModel",
            "_view_count": null,
            "_view_module": "@jupyter-widgets/base",
            "_view_module_version": "1.2.0",
            "_view_name": "StyleView",
            "description_width": ""
          }
        },
        "dadbb68856a5403e95f7b01b84b4d9e3": {
          "model_module": "@jupyter-widgets/base",
          "model_name": "LayoutModel",
          "model_module_version": "1.2.0",
          "state": {
            "_model_module": "@jupyter-widgets/base",
            "_model_module_version": "1.2.0",
            "_model_name": "LayoutModel",
            "_view_count": null,
            "_view_module": "@jupyter-widgets/base",
            "_view_module_version": "1.2.0",
            "_view_name": "LayoutView",
            "align_content": null,
            "align_items": null,
            "align_self": null,
            "border": null,
            "bottom": null,
            "display": null,
            "flex": null,
            "flex_flow": null,
            "grid_area": null,
            "grid_auto_columns": null,
            "grid_auto_flow": null,
            "grid_auto_rows": null,
            "grid_column": null,
            "grid_gap": null,
            "grid_row": null,
            "grid_template_areas": null,
            "grid_template_columns": null,
            "grid_template_rows": null,
            "height": null,
            "justify_content": null,
            "justify_items": null,
            "left": null,
            "margin": null,
            "max_height": null,
            "max_width": null,
            "min_height": null,
            "min_width": null,
            "object_fit": null,
            "object_position": null,
            "order": null,
            "overflow": null,
            "overflow_x": null,
            "overflow_y": null,
            "padding": null,
            "right": null,
            "top": null,
            "visibility": null,
            "width": null
          }
        },
        "037d3b74ab9947b784ce52a5f914cebe": {
          "model_module": "@jupyter-widgets/controls",
          "model_name": "ProgressStyleModel",
          "model_module_version": "1.5.0",
          "state": {
            "_model_module": "@jupyter-widgets/controls",
            "_model_module_version": "1.5.0",
            "_model_name": "ProgressStyleModel",
            "_view_count": null,
            "_view_module": "@jupyter-widgets/base",
            "_view_module_version": "1.2.0",
            "_view_name": "StyleView",
            "bar_color": null,
            "description_width": ""
          }
        },
        "ef32390d03154d4fb577e2222f56db9a": {
          "model_module": "@jupyter-widgets/base",
          "model_name": "LayoutModel",
          "model_module_version": "1.2.0",
          "state": {
            "_model_module": "@jupyter-widgets/base",
            "_model_module_version": "1.2.0",
            "_model_name": "LayoutModel",
            "_view_count": null,
            "_view_module": "@jupyter-widgets/base",
            "_view_module_version": "1.2.0",
            "_view_name": "LayoutView",
            "align_content": null,
            "align_items": null,
            "align_self": null,
            "border": null,
            "bottom": null,
            "display": null,
            "flex": null,
            "flex_flow": null,
            "grid_area": null,
            "grid_auto_columns": null,
            "grid_auto_flow": null,
            "grid_auto_rows": null,
            "grid_column": null,
            "grid_gap": null,
            "grid_row": null,
            "grid_template_areas": null,
            "grid_template_columns": null,
            "grid_template_rows": null,
            "height": null,
            "justify_content": null,
            "justify_items": null,
            "left": null,
            "margin": null,
            "max_height": null,
            "max_width": null,
            "min_height": null,
            "min_width": null,
            "object_fit": null,
            "object_position": null,
            "order": null,
            "overflow": null,
            "overflow_x": null,
            "overflow_y": null,
            "padding": null,
            "right": null,
            "top": null,
            "visibility": null,
            "width": null
          }
        },
        "37f0eebda5584db192ab79395cd68164": {
          "model_module": "@jupyter-widgets/controls",
          "model_name": "DescriptionStyleModel",
          "model_module_version": "1.5.0",
          "state": {
            "_model_module": "@jupyter-widgets/controls",
            "_model_module_version": "1.5.0",
            "_model_name": "DescriptionStyleModel",
            "_view_count": null,
            "_view_module": "@jupyter-widgets/base",
            "_view_module_version": "1.2.0",
            "_view_name": "StyleView",
            "description_width": ""
          }
        }
      }
    }
  },
  "cells": [
    {
      "cell_type": "markdown",
      "metadata": {
        "id": "view-in-github",
        "colab_type": "text"
      },
      "source": [
        "<a href=\"https://colab.research.google.com/github/Sina-Haz/Generative-Modelling/blob/main/Score-Based-Models/score_jax.ipynb\" target=\"_parent\"><img src=\"https://colab.research.google.com/assets/colab-badge.svg\" alt=\"Open In Colab\"/></a>"
      ]
    },
    {
      "cell_type": "code",
      "execution_count": null,
      "metadata": {
        "id": "5BI2hH0imfM-"
      },
      "outputs": [],
      "source": [
        "import jax.numpy as np\n",
        "from jax.scipy.stats import norm\n",
        "from jax import grad, vmap\n",
        "import matplotlib.pyplot as plt\n",
        "import seaborn as sns\n",
        "import equinox as eqx\n"
      ]
    },
    {
      "cell_type": "code",
      "source": [
        "fig, axes = plt.subplots(figsize=(8, 3), nrows=1, ncols=3, sharex=True)\n",
        "\n",
        "plt.sca(axes[0])\n",
        "x = np.linspace(-3.5, 3.5, 1000)\n",
        "y = norm.pdf(x)\n",
        "plt.plot(x, y, color=\"black\")\n",
        "plt.xlabel(\"Support\")\n",
        "plt.ylabel(\"Likelihood\")\n",
        "plt.title(\"PDF\")\n",
        "sns.despine()\n",
        "\n",
        "y = norm.logpdf(x)\n",
        "plt.sca(axes[1])\n",
        "plt.plot(x, y, color=\"black\")\n",
        "plt.xlabel(\"Support\")\n",
        "plt.ylabel(\"logP(x)\")\n",
        "plt.title(\"Log PDF\")\n",
        "\n",
        "# Tangent Line\n",
        "def line(x):\n",
        "    return grad(norm.logpdf)(x_pt) * (x - x_pt) + y_pt\n",
        "x_pt = -1.5\n",
        "y_pt = norm.logpdf(x_pt)\n",
        "xrange = np.linspace(x_pt - 1, x_pt + 1, 10)\n",
        "plt.plot(x, y, color=\"black\")\n",
        "plt.scatter(x_pt, y_pt, color=\"gray\")\n",
        "plt.plot(xrange, vmap(line)(xrange), color=\"gray\", ls=\"--\")\n",
        "\n",
        "\n",
        "plt.sca(axes[2])\n",
        "plt.plot(x, vmap(grad(norm.logpdf))(x), color=\"black\")\n",
        "plt.axhline(y=0, ls=\"--\", color=\"black\")\n",
        "plt.axvline(x=0, ls=\"--\", color=\"black\")\n",
        "plt.xlabel(\"Support\")\n",
        "plt.ylabel(\"dlogP(x)\")\n",
        "plt.title(\"Score\")\n",
        "\n",
        "sns.despine()\n",
        "plt.tight_layout()"
      ],
      "metadata": {
        "colab": {
          "base_uri": "https://localhost:8080/",
          "height": 307
        },
        "id": "Samay3RSm91E",
        "outputId": "df152f75-165f-4c34-d682-bc154b680aba"
      },
      "execution_count": null,
      "outputs": [
        {
          "output_type": "display_data",
          "data": {
            "text/plain": [
              "<Figure size 800x300 with 3 Axes>"
            ],
            "image/png": "[encoded data removed]"
          },
          "metadata": {}
        }
      ]
    },
    {
      "cell_type": "code",
      "source": [
        "# Get gaussian score and assert that for normal standard its just -x\n",
        "gaussian_score = grad(norm.logpdf)\n",
        "gaussian_score(-4.), gaussian_score(0.), gaussian_score(4.)"
      ],
      "metadata": {
        "colab": {
          "base_uri": "https://localhost:8080/"
        },
        "id": "UvU1qrQlnPvL",
        "outputId": "bd788db6-abb6-417c-ac88-d853a26a4cae"
      },
      "execution_count": null,
      "outputs": [
        {
          "output_type": "execute_result",
          "data": {
            "text/plain": [
              "(Array(4., dtype=float32, weak_type=True),\n",
              " Array(-0., dtype=float32, weak_type=True),\n",
              " Array(-4., dtype=float32, weak_type=True))"
            ]
          },
          "metadata": {},
          "execution_count": 4
        }
      ]
    },
    {
      "cell_type": "code",
      "source": [
        "from jax import random\n",
        "\n",
        "# Define our distribution as normal(mu = 3, sigma = 1)\n",
        "key = random.PRNGKey(44)\n",
        "true_mu, true_sigma = 3, 1\n",
        "data = random.normal(key, shape=(1000,1)) * true_sigma + true_mu"
      ],
      "metadata": {
        "id": "Fb2Os1VSneyN"
      },
      "execution_count": null,
      "outputs": []
    },
    {
      "cell_type": "code",
      "source": [
        "# Let's make a gaussian model\n",
        "from jax import jacfwd\n",
        "\n",
        "class GaussianScoreModel(eqx.Module):\n",
        "  mu: np.array = np.array(0.0)\n",
        "  log_sigma: np.array = np.array(0.0)\n",
        "\n",
        "  @eqx.filter_jit\n",
        "  def __call__(self, x):\n",
        "    score = jacfwd(norm.logpdf)\n",
        "    return score(x, loc=self.mu, scale=np.exp(self.log_sigma))\n",
        "\n",
        "\n",
        "model = GaussianScoreModel()\n",
        "model(-3.), model(0.), model(3.)"
      ],
      "metadata": {
        "colab": {
          "base_uri": "https://localhost:8080/"
        },
        "id": "Bs8ZSFFLoBAA",
        "outputId": "2a0549da-6378-4ac9-b477-c5483138ca72"
      },
      "execution_count": null,
      "outputs": [
        {
          "output_type": "execute_result",
          "data": {
            "text/plain": [
              "(Array(3., dtype=float32, weak_type=True),\n",
              " Array(-0., dtype=float32, weak_type=True),\n",
              " Array(-3., dtype=float32, weak_type=True))"
            ]
          },
          "metadata": {},
          "execution_count": 20
        }
      ]
    },
    {
      "cell_type": "code",
      "source": [
        "# Lets make sure we can call this model over all of the data, squeeze this b/c resulting output is 3D tensor\n",
        "data_score = vmap(model)(data).squeeze()\n",
        "\n",
        "data_score[0:3], data.mean(), data.std()"
      ],
      "metadata": {
        "colab": {
          "base_uri": "https://localhost:8080/"
        },
        "id": "TSHtw1RvqZvr",
        "outputId": "9bb1614a-ee52-492b-febc-38633526db1c"
      },
      "execution_count": null,
      "outputs": [
        {
          "output_type": "execute_result",
          "data": {
            "text/plain": [
              "(Array([-0.8219464, -3.8602278, -1.4089172], dtype=float32),\n",
              " Array(2.9986677, dtype=float32),\n",
              " Array(1.0197434, dtype=float32))"
            ]
          },
          "metadata": {},
          "execution_count": 28
        }
      ]
    },
    {
      "cell_type": "code",
      "source": [
        "# Let's see what the actual scores vs. our untrained scores look like\n",
        "\n",
        "true_model = GaussianScoreModel(mu=true_mu, log_sigma=np.log(true_sigma))\n",
        "true_model_scores = vmap(true_model)(data)\n",
        "plt.scatter(data.squeeze(), true_model_scores.squeeze(), label=\"True Score Model\")\n",
        "plt.scatter(data.squeeze(), data_score.squeeze(), label=\"Initialized Score Model\")\n",
        "plt.xlabel(\"Support\")\n",
        "plt.ylabel(\"Score\")\n",
        "plt.legend();"
      ],
      "metadata": {
        "colab": {
          "base_uri": "https://localhost:8080/",
          "height": 449
        },
        "id": "jttQsLdzq0Ze",
        "outputId": "6b8db36d-4600-49d6-d66a-9fbf003a42bb"
      },
      "execution_count": null,
      "outputs": [
        {
          "output_type": "display_data",
          "data": {
            "text/plain": [
              "<Figure size 640x480 with 1 Axes>"
            ],
            "image/png": "[encoded data removed]"
          },
          "metadata": {}
        }
      ]
    },
    {
      "cell_type": "code",
      "source": [
        "# Implement score matching loss to train our gaussian model with gradient descent\n",
        "print(data.shape)\n",
        "\n",
        "from typing import Callable, List, Tuple\n",
        "import optax\n",
        "from tqdm.auto import tqdm\n",
        "\n",
        "def score_matching_loss(model, data):\n",
        "  '''\n",
        "  data should have shape (batch, :), at least a 2D tensor\n",
        "  '''\n",
        "  # Compute the hessians of the logpdf (or jacobian of score fn)\n",
        "  hess = vmap(jacfwd(model))(data)\n",
        "\n",
        "  # Get the diagonals of the Hessians, correspond to derivative of score fn w.r.t. i-th data dimension\n",
        "  # If it's a 2D tensor, add another dimension so that when we call np.diagonal it reduces dim instead of increasing it\n",
        "  if hess.shape[-1] == 1 and len(hess.shape)==2:\n",
        "    hess = np.expand_dims(hess, -1)\n",
        "  term1 = vmap(np.diagonal)(hess)\n",
        "\n",
        "  term2 = 0.5 * vmap(model)(data)**2\n",
        "  term2 = np.reshape(term2, term1.shape) # reshape to be like term 1\n",
        "\n",
        "  inner = term1 + term2\n",
        "  # sum along data dimensions (mapping np.sum to each individual data tensor ensures final shape is (batch, ))\n",
        "  inner = vmap(np.sum)(inner)\n",
        "\n",
        "  # Now average over the entire batch of data\n",
        "  loss = np.mean(inner)\n",
        "  return loss\n",
        "\n",
        "def fit(\n",
        "    model: eqx.Module,\n",
        "    data: np.array,\n",
        "    loss_fn: Callable,\n",
        "    optimizer: optax.GradientTransformation,\n",
        "    steps: int,\n",
        "    progress_bar: bool = True,\n",
        "  ) -> Tuple[List[eqx.Module], List]:\n",
        "  \"\"\"\n",
        "  Fit model to data\n",
        "\n",
        "  data should have shape (batch, :), at least a 2D tensor\n",
        "\n",
        "  returns updated model + loss training history\n",
        "  \"\"\"\n",
        "  # Set up the state of the optimizer, filtering for weights which are inexact (which is apparently anything that is floating point)\n",
        "  opt_state = optimizer.init(eqx.filter(model, eqx.is_inexact_array))\n",
        "\n",
        "  # Here we call filter_value_and_grad s.t. it returns pair (value, grad). We jit compile it too to be faster\n",
        "  dloss = eqx.filter_jit(eqx.filter_value_and_grad(loss_fn))\n",
        "\n",
        "  @eqx.filter_jit\n",
        "  def step(model, opt_state, data):\n",
        "    \"\"\"\n",
        "    One step of training loop, jitted to run faster\n",
        "    \"\"\"\n",
        "\n",
        "    loss, grads = dloss(model, data)\n",
        "\n",
        "    # Next we compute the updates and obtain optimizer state\n",
        "    updates, opt_state = optimizer.update(grads, opt_state)\n",
        "\n",
        "    # Apply updates to the model\n",
        "    model = eqx.apply_updates(model, updates)\n",
        "    return model, opt_state, loss\n",
        "\n",
        "  loss_hist = []\n",
        "  iterator = range(steps)\n",
        "  if progress_bar: iterator = tqdm(iterator)\n",
        "\n",
        "  for _ in iterator:\n",
        "    model, opt_state, loss = step(model, opt_state, data)\n",
        "    loss_hist.append(loss)\n",
        "  return model, loss_hist\n",
        "\n",
        "score_matching_loss(model, data)"
      ],
      "metadata": {
        "colab": {
          "base_uri": "https://localhost:8080/"
        },
        "id": "QJwtiG2orM22",
        "outputId": "9b40f598-0a09-435a-ab26-fbd35f086f04"
      },
      "execution_count": null,
      "outputs": [
        {
          "output_type": "stream",
          "name": "stdout",
          "text": [
            "(1000, 1)\n"
          ]
        },
        {
          "output_type": "execute_result",
          "data": {
            "text/plain": [
              "Array(4.015941, dtype=float32)"
            ]
          },
          "metadata": {},
          "execution_count": 26
        }
      ]
    },
    {
      "cell_type": "code",
      "source": [
        "# Now let's train the model\n",
        "opt = optax.adam(learning_rate=5e-3)\n",
        "updated_model, loss_hist = fit(model, data, score_matching_loss, opt, 2000, progress_bar=True)"
      ],
      "metadata": {
        "colab": {
          "base_uri": "https://localhost:8080/",
          "height": 49,
          "referenced_widgets": [
            "a119379f7069476fb31944841c1eabe9",
            "45a4d0d26b844f929d60f89ffb0a4169",
            "e9d57465e11a43eea8123ae7e52bbaa9",
            "dd5f682225b84efbb6c359a2c33318f9",
            "b3b3c65fce3641388f11e6e4d16facd7",
            "f6d5fdbc036641c88530af5813fbc2f4",
            "9548e8021bfd48769169fb2aa426b84e",
            "b109644f4f34491785baa9391d6e5e8e",
            "bd3b898629844cfc9032251ff96648cb",
            "b57e84fa71154067b14e2d1fa4d43cb9",
            "818d964e49744bb3be9cb799e4a80e6d"
          ]
        },
        "id": "zP3qnZ7tyYz4",
        "outputId": "f7255ff6-aebf-4e7e-8cff-4772fd16e892"
      },
      "execution_count": null,
      "outputs": [
        {
          "output_type": "display_data",
          "data": {
            "text/plain": [
              "  0%|          | 0/2000 [00:00<?, ?it/s]"
            ],
            "application/vnd.jupyter.widget-view+json": {
              "version_major": 2,
              "version_minor": 0,
              "model_id": "a119379f7069476fb31944841c1eabe9"
            }
          },
          "metadata": {}
        }
      ]
    },
    {
      "cell_type": "code",
      "source": [
        "fig, axes = plt.subplots(figsize=(8, 4), ncols=2)\n",
        "\n",
        "\n",
        "plt.sca(axes[0])\n",
        "plt.plot(loss_hist)\n",
        "plt.xlabel(\"Training Iteration\")\n",
        "plt.ylabel(\"Score Matching Loss\")\n",
        "plt.title(\"Score Matching Loss History\")\n",
        "sns.despine()\n",
        "\n",
        "plt.sca(axes[1])\n",
        "updated_model_scores = vmap(updated_model)(data)\n",
        "plt.scatter(updated_model_scores.squeeze(), true_model_scores.squeeze())\n",
        "plt.xlabel(\"Estimated Scores\")\n",
        "plt.ylabel(\"True Model\")\n",
        "plt.title(\"True vs. Estimated Score\");"
      ],
      "metadata": {
        "colab": {
          "base_uri": "https://localhost:8080/",
          "height": 410
        },
        "id": "-yy5eKmzy4Ka",
        "outputId": "7332fdf2-3c2d-4202-ce17-e46c50cd863b"
      },
      "execution_count": null,
      "outputs": [
        {
          "output_type": "display_data",
          "data": {
            "text/plain": [
              "<Figure size 800x400 with 2 Axes>"
            ],
            "image/png": "[encoded data removed]"
          },
          "metadata": {}
        }
      ]
    },
    {
      "cell_type": "code",
      "source": [
        "np.mean(data), np.std(data), updated_model.mu, np.exp(updated_model.log_sigma)"
      ],
      "metadata": {
        "colab": {
          "base_uri": "https://localhost:8080/"
        },
        "id": "2HOqOZ7b0XIF",
        "outputId": "6000495d-cd93-44e1-c1ff-39a9a7c23385"
      },
      "execution_count": null,
      "outputs": [
        {
          "output_type": "execute_result",
          "data": {
            "text/plain": [
              "(Array(2.9986677, dtype=float32),\n",
              " Array(1.0197434, dtype=float32),\n",
              " Array(2.9963465, dtype=float32),\n",
              " Array(1.0235366, dtype=float32))"
            ]
          },
          "metadata": {},
          "execution_count": 33
        }
      ]
    },
    {
      "cell_type": "code",
      "source": [
        "# So clearly the loss function seems to work for our gaussian model, but what if now we assume we don't know the form of the logpdf\n",
        "# and instead try to approximate score function via MLP?\n",
        "from jax.tree_util import tree_flatten, tree_map\n",
        "\n",
        "mlp = eqx.nn.MLP(\n",
        "    in_size = 1,\n",
        "    out_size = 1,\n",
        "    width_size = 1024,\n",
        "    depth=1,\n",
        "    key=random.PRNGKey(45)\n",
        ")\n",
        "\n",
        "def regularized_loss(model, data):\n",
        "  sm_loss = score_matching_loss(model, data)\n",
        "\n",
        "  # compute l2 norm\n",
        "  params = eqx.filter(model, eqx.is_array_like)\n",
        "  squared = tree_map(lambda x: np.power(x, 2), params)\n",
        "  summed = tree_map(np.sum, squared)\n",
        "  flattened, _ = tree_flatten(summed)\n",
        "\n",
        "  l2_norm = np.mean(np.array(flattened)) * 0.1 # scale it down too\n",
        "\n",
        "  return sm_loss + l2_norm"
      ],
      "metadata": {
        "id": "2LpWyMi30eY6"
      },
      "execution_count": null,
      "outputs": []
    },
    {
      "cell_type": "code",
      "source": [
        "optimizer = optax.chain(\n",
        "    optax.clip(0.01),\n",
        "    optax.sgd(learning_rate=5e-3),\n",
        ")\n",
        "\n",
        "updated_mlp, history = fit(\n",
        "    mlp,\n",
        "    data,\n",
        "    regularized_loss,\n",
        "    optimizer,\n",
        "    steps=2_000,\n",
        ")"
      ],
      "metadata": {
        "colab": {
          "base_uri": "https://localhost:8080/",
          "height": 49,
          "referenced_widgets": [
            "4c07b10ffdc843c3a7df3ecc60653709",
            "07bb8cb9227448758261cd518b985616",
            "8bd8239b33fd4975aed04ea5460ddfb0",
            "517b0637e7a343a0841915df39f0e4e4",
            "764dd04b87e44cd08be32e0fbd1bb796",
            "6f9c6c52f9f24a109ba531563cf5908b",
            "581a86dfc3bb4f7e8e68c9426eb787ab",
            "dadbb68856a5403e95f7b01b84b4d9e3",
            "037d3b74ab9947b784ce52a5f914cebe",
            "ef32390d03154d4fb577e2222f56db9a",
            "37f0eebda5584db192ab79395cd68164"
          ]
        },
        "id": "SeSHnnBT3bEy",
        "outputId": "6b030058-32e4-4d8a-91f3-922bd8d39577"
      },
      "execution_count": null,
      "outputs": [
        {
          "output_type": "display_data",
          "data": {
            "text/plain": [
              "  0%|          | 0/2000 [00:00<?, ?it/s]"
            ],
            "application/vnd.jupyter.widget-view+json": {
              "version_major": 2,
              "version_minor": 0,
              "model_id": "4c07b10ffdc843c3a7df3ecc60653709"
            }
          },
          "metadata": {}
        }
      ]
    },
    {
      "cell_type": "code",
      "source": [
        "fig, axes = plt.subplots(figsize=(8, 4), ncols=2)\n",
        "\n",
        "plt.sca(axes[0])\n",
        "plt.plot(history)\n",
        "plt.xlabel(\"Training Iteration\")\n",
        "plt.ylabel(\"Loss Value\")\n",
        "plt.title(\"Score Matching Loss History\")\n",
        "sns.despine()\n",
        "\n",
        "plt.sca(axes[1])\n",
        "updated_model_scores = vmap(updated_mlp)(data).squeeze()\n",
        "plt.scatter(data.squeeze(), true_model_scores, label=\"True Model Scores\")\n",
        "plt.scatter(data.squeeze(), updated_model_scores, label=\"Feed Forward Estimate\")\n",
        "plt.xlabel(\"Support\")\n",
        "plt.ylabel(\"Score\")\n",
        "plt.title(\"True vs. Estimated Score\")\n",
        "plt.legend();"
      ],
      "metadata": {
        "colab": {
          "base_uri": "https://localhost:8080/",
          "height": 410
        },
        "id": "fSr4k-Jq37nE",
        "outputId": "04ab559e-1367-471e-a642-3ede1281cb5b"
      },
      "execution_count": null,
      "outputs": [
        {
          "output_type": "display_data",
          "data": {
            "text/plain": [
              "<Figure size 800x400 with 2 Axes>"
            ],
            "image/png": "[encoded data removed]"
          },
          "metadata": {}
        }
      ]
    }
  ]
}