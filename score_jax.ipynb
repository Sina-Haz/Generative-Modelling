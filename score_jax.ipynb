{
  "nbformat": 4,
  "nbformat_minor": 0,
  "metadata": {
    "colab": {
      "provenance": [],
      "gpuType": "T4",
      "authorship_tag": "ABX9TyM4MoH5axou0caz6k+JQ6zc",
      "include_colab_link": true
    },
    "kernelspec": {
      "name": "python3",
      "display_name": "Python 3"
    },
    "language_info": {
      "name": "python"
    },
    "widgets": {
      "application/vnd.jupyter.widget-state+json": {
        "deb38b7ff85a491282e8e62a1e308120": {
          "model_module": "@jupyter-widgets/controls",
          "model_name": "HBoxModel",
          "model_module_version": "1.5.0",
          "state": {
            "_dom_classes": [],
            "_model_module": "@jupyter-widgets/controls",
            "_model_module_version": "1.5.0",
            "_model_name": "HBoxModel",
            "_view_count": null,
            "_view_module": "@jupyter-widgets/controls",
            "_view_module_version": "1.5.0",
            "_view_name": "HBoxView",
            "box_style": "",
            "children": [
              "IPY_MODEL_3ee076dd673c4cc88bf9e5efd8080ba7",
              "IPY_MODEL_0aac79c023df40f3aeba1fa284d59e9d",
              "IPY_MODEL_a4cc7e8c01994401bb4585322667b27b"
            ],
            "layout": "IPY_MODEL_50f5054c6efc49d8b8850dcd1fc9e6d1"
          }
        },
        "3ee076dd673c4cc88bf9e5efd8080ba7": {
          "model_module": "@jupyter-widgets/controls",
          "model_name": "HTMLModel",
          "model_module_version": "1.5.0",
          "state": {
            "_dom_classes": [],
            "_model_module": "@jupyter-widgets/controls",
            "_model_module_version": "1.5.0",
            "_model_name": "HTMLModel",
            "_view_count": null,
            "_view_module": "@jupyter-widgets/controls",
            "_view_module_version": "1.5.0",
            "_view_name": "HTMLView",
            "description": "",
            "description_tooltip": null,
            "layout": "IPY_MODEL_4bfb379be1874912b2d159e49063c862",
            "placeholder": "​",
            "style": "IPY_MODEL_33a48f4e3dc14dbe9abc2eafc704d43b",
            "value": "100%"
          }
        },
        "0aac79c023df40f3aeba1fa284d59e9d": {
          "model_module": "@jupyter-widgets/controls",
          "model_name": "FloatProgressModel",
          "model_module_version": "1.5.0",
          "state": {
            "_dom_classes": [],
            "_model_module": "@jupyter-widgets/controls",
            "_model_module_version": "1.5.0",
            "_model_name": "FloatProgressModel",
            "_view_count": null,
            "_view_module": "@jupyter-widgets/controls",
            "_view_module_version": "1.5.0",
            "_view_name": "ProgressView",
            "bar_style": "success",
            "description": "",
            "description_tooltip": null,
            "layout": "IPY_MODEL_62a2355a47b64ccfb57204eb1e803866",
            "max": 2000,
            "min": 0,
            "orientation": "horizontal",
            "style": "IPY_MODEL_869bf82269744fcc97f67dcc6ce5a5bb",
            "value": 2000
          }
        },
        "a4cc7e8c01994401bb4585322667b27b": {
          "model_module": "@jupyter-widgets/controls",
          "model_name": "HTMLModel",
          "model_module_version": "1.5.0",
          "state": {
            "_dom_classes": [],
            "_model_module": "@jupyter-widgets/controls",
            "_model_module_version": "1.5.0",
            "_model_name": "HTMLModel",
            "_view_count": null,
            "_view_module": "@jupyter-widgets/controls",
            "_view_module_version": "1.5.0",
            "_view_name": "HTMLView",
            "description": "",
            "description_tooltip": null,
            "layout": "IPY_MODEL_1008c27401214ecf8db27622f0afe6bf",
            "placeholder": "​",
            "style": "IPY_MODEL_19844df222584924b424ffa47965d9f7",
            "value": " 2000/2000 [00:08&lt;00:00, 485.92it/s]"
          }
        },
        "50f5054c6efc49d8b8850dcd1fc9e6d1": {
          "model_module": "@jupyter-widgets/base",
          "model_name": "LayoutModel",
          "model_module_version": "1.2.0",
          "state": {
            "_model_module": "@jupyter-widgets/base",
            "_model_module_version": "1.2.0",
            "_model_name": "LayoutModel",
            "_view_count": null,
            "_view_module": "@jupyter-widgets/base",
            "_view_module_version": "1.2.0",
            "_view_name": "LayoutView",
            "align_content": null,
            "align_items": null,
            "align_self": null,
            "border": null,
            "bottom": null,
            "display": null,
            "flex": null,
            "flex_flow": null,
            "grid_area": null,
            "grid_auto_columns": null,
            "grid_auto_flow": null,
            "grid_auto_rows": null,
            "grid_column": null,
            "grid_gap": null,
            "grid_row": null,
            "grid_template_areas": null,
            "grid_template_columns": null,
            "grid_template_rows": null,
            "height": null,
            "justify_content": null,
            "justify_items": null,
            "left": null,
            "margin": null,
            "max_height": null,
            "max_width": null,
            "min_height": null,
            "min_width": null,
            "object_fit": null,
            "object_position": null,
            "order": null,
            "overflow": null,
            "overflow_x": null,
            "overflow_y": null,
            "padding": null,
            "right": null,
            "top": null,
            "visibility": null,
            "width": null
          }
        },
        "4bfb379be1874912b2d159e49063c862": {
          "model_module": "@jupyter-widgets/base",
          "model_name": "LayoutModel",
          "model_module_version": "1.2.0",
          "state": {
            "_model_module": "@jupyter-widgets/base",
            "_model_module_version": "1.2.0",
            "_model_name": "LayoutModel",
            "_view_count": null,
            "_view_module": "@jupyter-widgets/base",
            "_view_module_version": "1.2.0",
            "_view_name": "LayoutView",
            "align_content": null,
            "align_items": null,
            "align_self": null,
            "border": null,
            "bottom": null,
            "display": null,
            "flex": null,
            "flex_flow": null,
            "grid_area": null,
            "grid_auto_columns": null,
            "grid_auto_flow": null,
            "grid_auto_rows": null,
            "grid_column": null,
            "grid_gap": null,
            "grid_row": null,
            "grid_template_areas": null,
            "grid_template_columns": null,
            "grid_template_rows": null,
            "height": null,
            "justify_content": null,
            "justify_items": null,
            "left": null,
            "margin": null,
            "max_height": null,
            "max_width": null,
            "min_height": null,
            "min_width": null,
            "object_fit": null,
            "object_position": null,
            "order": null,
            "overflow": null,
            "overflow_x": null,
            "overflow_y": null,
            "padding": null,
            "right": null,
            "top": null,
            "visibility": null,
            "width": null
          }
        },
        "33a48f4e3dc14dbe9abc2eafc704d43b": {
          "model_module": "@jupyter-widgets/controls",
          "model_name": "DescriptionStyleModel",
          "model_module_version": "1.5.0",
          "state": {
            "_model_module": "@jupyter-widgets/controls",
            "_model_module_version": "1.5.0",
            "_model_name": "DescriptionStyleModel",
            "_view_count": null,
            "_view_module": "@jupyter-widgets/base",
            "_view_module_version": "1.2.0",
            "_view_name": "StyleView",
            "description_width": ""
          }
        },
        "62a2355a47b64ccfb57204eb1e803866": {
          "model_module": "@jupyter-widgets/base",
          "model_name": "LayoutModel",
          "model_module_version": "1.2.0",
          "state": {
            "_model_module": "@jupyter-widgets/base",
            "_model_module_version": "1.2.0",
            "_model_name": "LayoutModel",
            "_view_count": null,
            "_view_module": "@jupyter-widgets/base",
            "_view_module_version": "1.2.0",
            "_view_name": "LayoutView",
            "align_content": null,
            "align_items": null,
            "align_self": null,
            "border": null,
            "bottom": null,
            "display": null,
            "flex": null,
            "flex_flow": null,
            "grid_area": null,
            "grid_auto_columns": null,
            "grid_auto_flow": null,
            "grid_auto_rows": null,
            "grid_column": null,
            "grid_gap": null,
            "grid_row": null,
            "grid_template_areas": null,
            "grid_template_columns": null,
            "grid_template_rows": null,
            "height": null,
            "justify_content": null,
            "justify_items": null,
            "left": null,
            "margin": null,
            "max_height": null,
            "max_width": null,
            "min_height": null,
            "min_width": null,
            "object_fit": null,
            "object_position": null,
            "order": null,
            "overflow": null,
            "overflow_x": null,
            "overflow_y": null,
            "padding": null,
            "right": null,
            "top": null,
            "visibility": null,
            "width": null
          }
        },
        "869bf82269744fcc97f67dcc6ce5a5bb": {
          "model_module": "@jupyter-widgets/controls",
          "model_name": "ProgressStyleModel",
          "model_module_version": "1.5.0",
          "state": {
            "_model_module": "@jupyter-widgets/controls",
            "_model_module_version": "1.5.0",
            "_model_name": "ProgressStyleModel",
            "_view_count": null,
            "_view_module": "@jupyter-widgets/base",
            "_view_module_version": "1.2.0",
            "_view_name": "StyleView",
            "bar_color": null,
            "description_width": ""
          }
        },
        "1008c27401214ecf8db27622f0afe6bf": {
          "model_module": "@jupyter-widgets/base",
          "model_name": "LayoutModel",
          "model_module_version": "1.2.0",
          "state": {
            "_model_module": "@jupyter-widgets/base",
            "_model_module_version": "1.2.0",
            "_model_name": "LayoutModel",
            "_view_count": null,
            "_view_module": "@jupyter-widgets/base",
            "_view_module_version": "1.2.0",
            "_view_name": "LayoutView",
            "align_content": null,
            "align_items": null,
            "align_self": null,
            "border": null,
            "bottom": null,
            "display": null,
            "flex": null,
            "flex_flow": null,
            "grid_area": null,
            "grid_auto_columns": null,
            "grid_auto_flow": null,
            "grid_auto_rows": null,
            "grid_column": null,
            "grid_gap": null,
            "grid_row": null,
            "grid_template_areas": null,
            "grid_template_columns": null,
            "grid_template_rows": null,
            "height": null,
            "justify_content": null,
            "justify_items": null,
            "left": null,
            "margin": null,
            "max_height": null,
            "max_width": null,
            "min_height": null,
            "min_width": null,
            "object_fit": null,
            "object_position": null,
            "order": null,
            "overflow": null,
            "overflow_x": null,
            "overflow_y": null,
            "padding": null,
            "right": null,
            "top": null,
            "visibility": null,
            "width": null
          }
        },
        "19844df222584924b424ffa47965d9f7": {
          "model_module": "@jupyter-widgets/controls",
          "model_name": "DescriptionStyleModel",
          "model_module_version": "1.5.0",
          "state": {
            "_model_module": "@jupyter-widgets/controls",
            "_model_module_version": "1.5.0",
            "_model_name": "DescriptionStyleModel",
            "_view_count": null,
            "_view_module": "@jupyter-widgets/base",
            "_view_module_version": "1.2.0",
            "_view_name": "StyleView",
            "description_width": ""
          }
        },
        "9298d328a9f34b638029d4267459e18e": {
          "model_module": "@jupyter-widgets/controls",
          "model_name": "HBoxModel",
          "model_module_version": "1.5.0",
          "state": {
            "_dom_classes": [],
            "_model_module": "@jupyter-widgets/controls",
            "_model_module_version": "1.5.0",
            "_model_name": "HBoxModel",
            "_view_count": null,
            "_view_module": "@jupyter-widgets/controls",
            "_view_module_version": "1.5.0",
            "_view_name": "HBoxView",
            "box_style": "",
            "children": [
              "IPY_MODEL_9caf05e485244d7a91e9d9b59d60f868",
              "IPY_MODEL_d9091207d9ce416abcdc17b596fbc63f",
              "IPY_MODEL_172deb06f7094da9bed6a53254399cb7"
            ],
            "layout": "IPY_MODEL_10962a90b77f420fa4ab0cd83e7a54c3"
          }
        },
        "9caf05e485244d7a91e9d9b59d60f868": {
          "model_module": "@jupyter-widgets/controls",
          "model_name": "HTMLModel",
          "model_module_version": "1.5.0",
          "state": {
            "_dom_classes": [],
            "_model_module": "@jupyter-widgets/controls",
            "_model_module_version": "1.5.0",
            "_model_name": "HTMLModel",
            "_view_count": null,
            "_view_module": "@jupyter-widgets/controls",
            "_view_module_version": "1.5.0",
            "_view_name": "HTMLView",
            "description": "",
            "description_tooltip": null,
            "layout": "IPY_MODEL_4e5e34f83b3549bf8da9b04f187f51e1",
            "placeholder": "​",
            "style": "IPY_MODEL_97fc5b23ebce404b81902d4775deb630",
            "value": "100%"
          }
        },
        "d9091207d9ce416abcdc17b596fbc63f": {
          "model_module": "@jupyter-widgets/controls",
          "model_name": "FloatProgressModel",
          "model_module_version": "1.5.0",
          "state": {
            "_dom_classes": [],
            "_model_module": "@jupyter-widgets/controls",
            "_model_module_version": "1.5.0",
            "_model_name": "FloatProgressModel",
            "_view_count": null,
            "_view_module": "@jupyter-widgets/controls",
            "_view_module_version": "1.5.0",
            "_view_name": "ProgressView",
            "bar_style": "success",
            "description": "",
            "description_tooltip": null,
            "layout": "IPY_MODEL_6f1e28bdc98d4dc196ca2ad589899692",
            "max": 1000,
            "min": 0,
            "orientation": "horizontal",
            "style": "IPY_MODEL_9fb5dd33bca64bc1a0907608fc744a5e",
            "value": 1000
          }
        },
        "172deb06f7094da9bed6a53254399cb7": {
          "model_module": "@jupyter-widgets/controls",
          "model_name": "HTMLModel",
          "model_module_version": "1.5.0",
          "state": {
            "_dom_classes": [],
            "_model_module": "@jupyter-widgets/controls",
            "_model_module_version": "1.5.0",
            "_model_name": "HTMLModel",
            "_view_count": null,
            "_view_module": "@jupyter-widgets/controls",
            "_view_module_version": "1.5.0",
            "_view_name": "HTMLView",
            "description": "",
            "description_tooltip": null,
            "layout": "IPY_MODEL_3262221e7a60499a92263d499a1b9a7c",
            "placeholder": "​",
            "style": "IPY_MODEL_b55a7e1312774a4794547c4a11bb00b4",
            "value": " 1000/1000 [00:01&lt;00:00, 664.94it/s]"
          }
        },
        "10962a90b77f420fa4ab0cd83e7a54c3": {
          "model_module": "@jupyter-widgets/base",
          "model_name": "LayoutModel",
          "model_module_version": "1.2.0",
          "state": {
            "_model_module": "@jupyter-widgets/base",
            "_model_module_version": "1.2.0",
            "_model_name": "LayoutModel",
            "_view_count": null,
            "_view_module": "@jupyter-widgets/base",
            "_view_module_version": "1.2.0",
            "_view_name": "LayoutView",
            "align_content": null,
            "align_items": null,
            "align_self": null,
            "border": null,
            "bottom": null,
            "display": null,
            "flex": null,
            "flex_flow": null,
            "grid_area": null,
            "grid_auto_columns": null,
            "grid_auto_flow": null,
            "grid_auto_rows": null,
            "grid_column": null,
            "grid_gap": null,
            "grid_row": null,
            "grid_template_areas": null,
            "grid_template_columns": null,
            "grid_template_rows": null,
            "height": null,
            "justify_content": null,
            "justify_items": null,
            "left": null,
            "margin": null,
            "max_height": null,
            "max_width": null,
            "min_height": null,
            "min_width": null,
            "object_fit": null,
            "object_position": null,
            "order": null,
            "overflow": null,
            "overflow_x": null,
            "overflow_y": null,
            "padding": null,
            "right": null,
            "top": null,
            "visibility": null,
            "width": null
          }
        },
        "4e5e34f83b3549bf8da9b04f187f51e1": {
          "model_module": "@jupyter-widgets/base",
          "model_name": "LayoutModel",
          "model_module_version": "1.2.0",
          "state": {
            "_model_module": "@jupyter-widgets/base",
            "_model_module_version": "1.2.0",
            "_model_name": "LayoutModel",
            "_view_count": null,
            "_view_module": "@jupyter-widgets/base",
            "_view_module_version": "1.2.0",
            "_view_name": "LayoutView",
            "align_content": null,
            "align_items": null,
            "align_self": null,
            "border": null,
            "bottom": null,
            "display": null,
            "flex": null,
            "flex_flow": null,
            "grid_area": null,
            "grid_auto_columns": null,
            "grid_auto_flow": null,
            "grid_auto_rows": null,
            "grid_column": null,
            "grid_gap": null,
            "grid_row": null,
            "grid_template_areas": null,
            "grid_template_columns": null,
            "grid_template_rows": null,
            "height": null,
            "justify_content": null,
            "justify_items": null,
            "left": null,
            "margin": null,
            "max_height": null,
            "max_width": null,
            "min_height": null,
            "min_width": null,
            "object_fit": null,
            "object_position": null,
            "order": null,
            "overflow": null,
            "overflow_x": null,
            "overflow_y": null,
            "padding": null,
            "right": null,
            "top": null,
            "visibility": null,
            "width": null
          }
        },
        "97fc5b23ebce404b81902d4775deb630": {
          "model_module": "@jupyter-widgets/controls",
          "model_name": "DescriptionStyleModel",
          "model_module_version": "1.5.0",
          "state": {
            "_model_module": "@jupyter-widgets/controls",
            "_model_module_version": "1.5.0",
            "_model_name": "DescriptionStyleModel",
            "_view_count": null,
            "_view_module": "@jupyter-widgets/base",
            "_view_module_version": "1.2.0",
            "_view_name": "StyleView",
            "description_width": ""
          }
        },
        "6f1e28bdc98d4dc196ca2ad589899692": {
          "model_module": "@jupyter-widgets/base",
          "model_name": "LayoutModel",
          "model_module_version": "1.2.0",
          "state": {
            "_model_module": "@jupyter-widgets/base",
            "_model_module_version": "1.2.0",
            "_model_name": "LayoutModel",
            "_view_count": null,
            "_view_module": "@jupyter-widgets/base",
            "_view_module_version": "1.2.0",
            "_view_name": "LayoutView",
            "align_content": null,
            "align_items": null,
            "align_self": null,
            "border": null,
            "bottom": null,
            "display": null,
            "flex": null,
            "flex_flow": null,
            "grid_area": null,
            "grid_auto_columns": null,
            "grid_auto_flow": null,
            "grid_auto_rows": null,
            "grid_column": null,
            "grid_gap": null,
            "grid_row": null,
            "grid_template_areas": null,
            "grid_template_columns": null,
            "grid_template_rows": null,
            "height": null,
            "justify_content": null,
            "justify_items": null,
            "left": null,
            "margin": null,
            "max_height": null,
            "max_width": null,
            "min_height": null,
            "min_width": null,
            "object_fit": null,
            "object_position": null,
            "order": null,
            "overflow": null,
            "overflow_x": null,
            "overflow_y": null,
            "padding": null,
            "right": null,
            "top": null,
            "visibility": null,
            "width": null
          }
        },
        "9fb5dd33bca64bc1a0907608fc744a5e": {
          "model_module": "@jupyter-widgets/controls",
          "model_name": "ProgressStyleModel",
          "model_module_version": "1.5.0",
          "state": {
            "_model_module": "@jupyter-widgets/controls",
            "_model_module_version": "1.5.0",
            "_model_name": "ProgressStyleModel",
            "_view_count": null,
            "_view_module": "@jupyter-widgets/base",
            "_view_module_version": "1.2.0",
            "_view_name": "StyleView",
            "bar_color": null,
            "description_width": ""
          }
        },
        "3262221e7a60499a92263d499a1b9a7c": {
          "model_module": "@jupyter-widgets/base",
          "model_name": "LayoutModel",
          "model_module_version": "1.2.0",
          "state": {
            "_model_module": "@jupyter-widgets/base",
            "_model_module_version": "1.2.0",
            "_model_name": "LayoutModel",
            "_view_count": null,
            "_view_module": "@jupyter-widgets/base",
            "_view_module_version": "1.2.0",
            "_view_name": "LayoutView",
            "align_content": null,
            "align_items": null,
            "align_self": null,
            "border": null,
            "bottom": null,
            "display": null,
            "flex": null,
            "flex_flow": null,
            "grid_area": null,
            "grid_auto_columns": null,
            "grid_auto_flow": null,
            "grid_auto_rows": null,
            "grid_column": null,
            "grid_gap": null,
            "grid_row": null,
            "grid_template_areas": null,
            "grid_template_columns": null,
            "grid_template_rows": null,
            "height": null,
            "justify_content": null,
            "justify_items": null,
            "left": null,
            "margin": null,
            "max_height": null,
            "max_width": null,
            "min_height": null,
            "min_width": null,
            "object_fit": null,
            "object_position": null,
            "order": null,
            "overflow": null,
            "overflow_x": null,
            "overflow_y": null,
            "padding": null,
            "right": null,
            "top": null,
            "visibility": null,
            "width": null
          }
        },
        "b55a7e1312774a4794547c4a11bb00b4": {
          "model_module": "@jupyter-widgets/controls",
          "model_name": "DescriptionStyleModel",
          "model_module_version": "1.5.0",
          "state": {
            "_model_module": "@jupyter-widgets/controls",
            "_model_module_version": "1.5.0",
            "_model_name": "DescriptionStyleModel",
            "_view_count": null,
            "_view_module": "@jupyter-widgets/base",
            "_view_module_version": "1.2.0",
            "_view_name": "StyleView",
            "description_width": ""
          }
        },
        "b7d33f7fca8f4311a8ce73154c474e06": {
          "model_module": "@jupyter-widgets/controls",
          "model_name": "HBoxModel",
          "model_module_version": "1.5.0",
          "state": {
            "_dom_classes": [],
            "_model_module": "@jupyter-widgets/controls",
            "_model_module_version": "1.5.0",
            "_model_name": "HBoxModel",
            "_view_count": null,
            "_view_module": "@jupyter-widgets/controls",
            "_view_module_version": "1.5.0",
            "_view_name": "HBoxView",
            "box_style": "",
            "children": [
              "IPY_MODEL_0fefb04a89004b9dbc1c395d3ee3738a",
              "IPY_MODEL_92b02dd6818c475cb711544c3956a52a",
              "IPY_MODEL_5d20dbdea4394846a1f09970e56d307d"
            ],
            "layout": "IPY_MODEL_c5a1637526004f379b986335da0b6247"
          }
        },
        "0fefb04a89004b9dbc1c395d3ee3738a": {
          "model_module": "@jupyter-widgets/controls",
          "model_name": "HTMLModel",
          "model_module_version": "1.5.0",
          "state": {
            "_dom_classes": [],
            "_model_module": "@jupyter-widgets/controls",
            "_model_module_version": "1.5.0",
            "_model_name": "HTMLModel",
            "_view_count": null,
            "_view_module": "@jupyter-widgets/controls",
            "_view_module_version": "1.5.0",
            "_view_name": "HTMLView",
            "description": "",
            "description_tooltip": null,
            "layout": "IPY_MODEL_5518eccc08bd42089a3017fff537d4dc",
            "placeholder": "​",
            "style": "IPY_MODEL_cbf8ca217e964d1d86ffc40f958d6293",
            "value": "100%"
          }
        },
        "92b02dd6818c475cb711544c3956a52a": {
          "model_module": "@jupyter-widgets/controls",
          "model_name": "FloatProgressModel",
          "model_module_version": "1.5.0",
          "state": {
            "_dom_classes": [],
            "_model_module": "@jupyter-widgets/controls",
            "_model_module_version": "1.5.0",
            "_model_name": "FloatProgressModel",
            "_view_count": null,
            "_view_module": "@jupyter-widgets/controls",
            "_view_module_version": "1.5.0",
            "_view_name": "ProgressView",
            "bar_style": "success",
            "description": "",
            "description_tooltip": null,
            "layout": "IPY_MODEL_f9bc5ec24304475ab9b3e6dff769f2f8",
            "max": 3000,
            "min": 0,
            "orientation": "horizontal",
            "style": "IPY_MODEL_6379b28deba444ad8e3c08ba52a640db",
            "value": 3000
          }
        },
        "5d20dbdea4394846a1f09970e56d307d": {
          "model_module": "@jupyter-widgets/controls",
          "model_name": "HTMLModel",
          "model_module_version": "1.5.0",
          "state": {
            "_dom_classes": [],
            "_model_module": "@jupyter-widgets/controls",
            "_model_module_version": "1.5.0",
            "_model_name": "HTMLModel",
            "_view_count": null,
            "_view_module": "@jupyter-widgets/controls",
            "_view_module_version": "1.5.0",
            "_view_name": "HTMLView",
            "description": "",
            "description_tooltip": null,
            "layout": "IPY_MODEL_d3a28c46a3a24a1f96a8f674ee2b7f41",
            "placeholder": "​",
            "style": "IPY_MODEL_a3853e8980284233854b98b03498a5e6",
            "value": " 3000/3000 [00:12&lt;00:00, 280.96it/s]"
          }
        },
        "c5a1637526004f379b986335da0b6247": {
          "model_module": "@jupyter-widgets/base",
          "model_name": "LayoutModel",
          "model_module_version": "1.2.0",
          "state": {
            "_model_module": "@jupyter-widgets/base",
            "_model_module_version": "1.2.0",
            "_model_name": "LayoutModel",
            "_view_count": null,
            "_view_module": "@jupyter-widgets/base",
            "_view_module_version": "1.2.0",
            "_view_name": "LayoutView",
            "align_content": null,
            "align_items": null,
            "align_self": null,
            "border": null,
            "bottom": null,
            "display": null,
            "flex": null,
            "flex_flow": null,
            "grid_area": null,
            "grid_auto_columns": null,
            "grid_auto_flow": null,
            "grid_auto_rows": null,
            "grid_column": null,
            "grid_gap": null,
            "grid_row": null,
            "grid_template_areas": null,
            "grid_template_columns": null,
            "grid_template_rows": null,
            "height": null,
            "justify_content": null,
            "justify_items": null,
            "left": null,
            "margin": null,
            "max_height": null,
            "max_width": null,
            "min_height": null,
            "min_width": null,
            "object_fit": null,
            "object_position": null,
            "order": null,
            "overflow": null,
            "overflow_x": null,
            "overflow_y": null,
            "padding": null,
            "right": null,
            "top": null,
            "visibility": null,
            "width": null
          }
        },
        "5518eccc08bd42089a3017fff537d4dc": {
          "model_module": "@jupyter-widgets/base",
          "model_name": "LayoutModel",
          "model_module_version": "1.2.0",
          "state": {
            "_model_module": "@jupyter-widgets/base",
            "_model_module_version": "1.2.0",
            "_model_name": "LayoutModel",
            "_view_count": null,
            "_view_module": "@jupyter-widgets/base",
            "_view_module_version": "1.2.0",
            "_view_name": "LayoutView",
            "align_content": null,
            "align_items": null,
            "align_self": null,
            "border": null,
            "bottom": null,
            "display": null,
            "flex": null,
            "flex_flow": null,
            "grid_area": null,
            "grid_auto_columns": null,
            "grid_auto_flow": null,
            "grid_auto_rows": null,
            "grid_column": null,
            "grid_gap": null,
            "grid_row": null,
            "grid_template_areas": null,
            "grid_template_columns": null,
            "grid_template_rows": null,
            "height": null,
            "justify_content": null,
            "justify_items": null,
            "left": null,
            "margin": null,
            "max_height": null,
            "max_width": null,
            "min_height": null,
            "min_width": null,
            "object_fit": null,
            "object_position": null,
            "order": null,
            "overflow": null,
            "overflow_x": null,
            "overflow_y": null,
            "padding": null,
            "right": null,
            "top": null,
            "visibility": null,
            "width": null
          }
        },
        "cbf8ca217e964d1d86ffc40f958d6293": {
          "model_module": "@jupyter-widgets/controls",
          "model_name": "DescriptionStyleModel",
          "model_module_version": "1.5.0",
          "state": {
            "_model_module": "@jupyter-widgets/controls",
            "_model_module_version": "1.5.0",
            "_model_name": "DescriptionStyleModel",
            "_view_count": null,
            "_view_module": "@jupyter-widgets/base",
            "_view_module_version": "1.2.0",
            "_view_name": "StyleView",
            "description_width": ""
          }
        },
        "f9bc5ec24304475ab9b3e6dff769f2f8": {
          "model_module": "@jupyter-widgets/base",
          "model_name": "LayoutModel",
          "model_module_version": "1.2.0",
          "state": {
            "_model_module": "@jupyter-widgets/base",
            "_model_module_version": "1.2.0",
            "_model_name": "LayoutModel",
            "_view_count": null,
            "_view_module": "@jupyter-widgets/base",
            "_view_module_version": "1.2.0",
            "_view_name": "LayoutView",
            "align_content": null,
            "align_items": null,
            "align_self": null,
            "border": null,
            "bottom": null,
            "display": null,
            "flex": null,
            "flex_flow": null,
            "grid_area": null,
            "grid_auto_columns": null,
            "grid_auto_flow": null,
            "grid_auto_rows": null,
            "grid_column": null,
            "grid_gap": null,
            "grid_row": null,
            "grid_template_areas": null,
            "grid_template_columns": null,
            "grid_template_rows": null,
            "height": null,
            "justify_content": null,
            "justify_items": null,
            "left": null,
            "margin": null,
            "max_height": null,
            "max_width": null,
            "min_height": null,
            "min_width": null,
            "object_fit": null,
            "object_position": null,
            "order": null,
            "overflow": null,
            "overflow_x": null,
            "overflow_y": null,
            "padding": null,
            "right": null,
            "top": null,
            "visibility": null,
            "width": null
          }
        },
        "6379b28deba444ad8e3c08ba52a640db": {
          "model_module": "@jupyter-widgets/controls",
          "model_name": "ProgressStyleModel",
          "model_module_version": "1.5.0",
          "state": {
            "_model_module": "@jupyter-widgets/controls",
            "_model_module_version": "1.5.0",
            "_model_name": "ProgressStyleModel",
            "_view_count": null,
            "_view_module": "@jupyter-widgets/base",
            "_view_module_version": "1.2.0",
            "_view_name": "StyleView",
            "bar_color": null,
            "description_width": ""
          }
        },
        "d3a28c46a3a24a1f96a8f674ee2b7f41": {
          "model_module": "@jupyter-widgets/base",
          "model_name": "LayoutModel",
          "model_module_version": "1.2.0",
          "state": {
            "_model_module": "@jupyter-widgets/base",
            "_model_module_version": "1.2.0",
            "_model_name": "LayoutModel",
            "_view_count": null,
            "_view_module": "@jupyter-widgets/base",
            "_view_module_version": "1.2.0",
            "_view_name": "LayoutView",
            "align_content": null,
            "align_items": null,
            "align_self": null,
            "border": null,
            "bottom": null,
            "display": null,
            "flex": null,
            "flex_flow": null,
            "grid_area": null,
            "grid_auto_columns": null,
            "grid_auto_flow": null,
            "grid_auto_rows": null,
            "grid_column": null,
            "grid_gap": null,
            "grid_row": null,
            "grid_template_areas": null,
            "grid_template_columns": null,
            "grid_template_rows": null,
            "height": null,
            "justify_content": null,
            "justify_items": null,
            "left": null,
            "margin": null,
            "max_height": null,
            "max_width": null,
            "min_height": null,
            "min_width": null,
            "object_fit": null,
            "object_position": null,
            "order": null,
            "overflow": null,
            "overflow_x": null,
            "overflow_y": null,
            "padding": null,
            "right": null,
            "top": null,
            "visibility": null,
            "width": null
          }
        },
        "a3853e8980284233854b98b03498a5e6": {
          "model_module": "@jupyter-widgets/controls",
          "model_name": "DescriptionStyleModel",
          "model_module_version": "1.5.0",
          "state": {
            "_model_module": "@jupyter-widgets/controls",
            "_model_module_version": "1.5.0",
            "_model_name": "DescriptionStyleModel",
            "_view_count": null,
            "_view_module": "@jupyter-widgets/base",
            "_view_module_version": "1.2.0",
            "_view_name": "StyleView",
            "description_width": ""
          }
        },
        "5f8345bac8df46b9aff4169d95b2652f": {
          "model_module": "@jupyter-widgets/controls",
          "model_name": "HBoxModel",
          "model_module_version": "1.5.0",
          "state": {
            "_dom_classes": [],
            "_model_module": "@jupyter-widgets/controls",
            "_model_module_version": "1.5.0",
            "_model_name": "HBoxModel",
            "_view_count": null,
            "_view_module": "@jupyter-widgets/controls",
            "_view_module_version": "1.5.0",
            "_view_name": "HBoxView",
            "box_style": "",
            "children": [
              "IPY_MODEL_afb56e03b30c446fb5e39c9828f4956b",
              "IPY_MODEL_1f274c20824d4dd7917f508f85426c91",
              "IPY_MODEL_1d4b3dc8927a4b31a91cafb563157411"
            ],
            "layout": "IPY_MODEL_0ed0d28a89b444ffbc6e8b708b3b86c7"
          }
        },
        "afb56e03b30c446fb5e39c9828f4956b": {
          "model_module": "@jupyter-widgets/controls",
          "model_name": "HTMLModel",
          "model_module_version": "1.5.0",
          "state": {
            "_dom_classes": [],
            "_model_module": "@jupyter-widgets/controls",
            "_model_module_version": "1.5.0",
            "_model_name": "HTMLModel",
            "_view_count": null,
            "_view_module": "@jupyter-widgets/controls",
            "_view_module_version": "1.5.0",
            "_view_name": "HTMLView",
            "description": "",
            "description_tooltip": null,
            "layout": "IPY_MODEL_c44d6d324cf24b99a0bc950d1d478e03",
            "placeholder": "​",
            "style": "IPY_MODEL_51c4f29273fb4198a90c1681203e9f36",
            "value": "100%"
          }
        },
        "1f274c20824d4dd7917f508f85426c91": {
          "model_module": "@jupyter-widgets/controls",
          "model_name": "FloatProgressModel",
          "model_module_version": "1.5.0",
          "state": {
            "_dom_classes": [],
            "_model_module": "@jupyter-widgets/controls",
            "_model_module_version": "1.5.0",
            "_model_name": "FloatProgressModel",
            "_view_count": null,
            "_view_module": "@jupyter-widgets/controls",
            "_view_module_version": "1.5.0",
            "_view_name": "ProgressView",
            "bar_style": "success",
            "description": "",
            "description_tooltip": null,
            "layout": "IPY_MODEL_b9f9bdfbcfe34766894b9c732f247026",
            "max": 2000,
            "min": 0,
            "orientation": "horizontal",
            "style": "IPY_MODEL_7ddeaf7ca5e24f40909cdfcc1b8ed73a",
            "value": 2000
          }
        },
        "1d4b3dc8927a4b31a91cafb563157411": {
          "model_module": "@jupyter-widgets/controls",
          "model_name": "HTMLModel",
          "model_module_version": "1.5.0",
          "state": {
            "_dom_classes": [],
            "_model_module": "@jupyter-widgets/controls",
            "_model_module_version": "1.5.0",
            "_model_name": "HTMLModel",
            "_view_count": null,
            "_view_module": "@jupyter-widgets/controls",
            "_view_module_version": "1.5.0",
            "_view_name": "HTMLView",
            "description": "",
            "description_tooltip": null,
            "layout": "IPY_MODEL_d1ab294a69e3466980dfed55620c0399",
            "placeholder": "​",
            "style": "IPY_MODEL_d3983370a4384cbbb1ca47a20caece64",
            "value": " 2000/2000 [00:04&lt;00:00, 403.72it/s]"
          }
        },
        "0ed0d28a89b444ffbc6e8b708b3b86c7": {
          "model_module": "@jupyter-widgets/base",
          "model_name": "LayoutModel",
          "model_module_version": "1.2.0",
          "state": {
            "_model_module": "@jupyter-widgets/base",
            "_model_module_version": "1.2.0",
            "_model_name": "LayoutModel",
            "_view_count": null,
            "_view_module": "@jupyter-widgets/base",
            "_view_module_version": "1.2.0",
            "_view_name": "LayoutView",
            "align_content": null,
            "align_items": null,
            "align_self": null,
            "border": null,
            "bottom": null,
            "display": null,
            "flex": null,
            "flex_flow": null,
            "grid_area": null,
            "grid_auto_columns": null,
            "grid_auto_flow": null,
            "grid_auto_rows": null,
            "grid_column": null,
            "grid_gap": null,
            "grid_row": null,
            "grid_template_areas": null,
            "grid_template_columns": null,
            "grid_template_rows": null,
            "height": null,
            "justify_content": null,
            "justify_items": null,
            "left": null,
            "margin": null,
            "max_height": null,
            "max_width": null,
            "min_height": null,
            "min_width": null,
            "object_fit": null,
            "object_position": null,
            "order": null,
            "overflow": null,
            "overflow_x": null,
            "overflow_y": null,
            "padding": null,
            "right": null,
            "top": null,
            "visibility": null,
            "width": null
          }
        },
        "c44d6d324cf24b99a0bc950d1d478e03": {
          "model_module": "@jupyter-widgets/base",
          "model_name": "LayoutModel",
          "model_module_version": "1.2.0",
          "state": {
            "_model_module": "@jupyter-widgets/base",
            "_model_module_version": "1.2.0",
            "_model_name": "LayoutModel",
            "_view_count": null,
            "_view_module": "@jupyter-widgets/base",
            "_view_module_version": "1.2.0",
            "_view_name": "LayoutView",
            "align_content": null,
            "align_items": null,
            "align_self": null,
            "border": null,
            "bottom": null,
            "display": null,
            "flex": null,
            "flex_flow": null,
            "grid_area": null,
            "grid_auto_columns": null,
            "grid_auto_flow": null,
            "grid_auto_rows": null,
            "grid_column": null,
            "grid_gap": null,
            "grid_row": null,
            "grid_template_areas": null,
            "grid_template_columns": null,
            "grid_template_rows": null,
            "height": null,
            "justify_content": null,
            "justify_items": null,
            "left": null,
            "margin": null,
            "max_height": null,
            "max_width": null,
            "min_height": null,
            "min_width": null,
            "object_fit": null,
            "object_position": null,
            "order": null,
            "overflow": null,
            "overflow_x": null,
            "overflow_y": null,
            "padding": null,
            "right": null,
            "top": null,
            "visibility": null,
            "width": null
          }
        },
        "51c4f29273fb4198a90c1681203e9f36": {
          "model_module": "@jupyter-widgets/controls",
          "model_name": "DescriptionStyleModel",
          "model_module_version": "1.5.0",
          "state": {
            "_model_module": "@jupyter-widgets/controls",
            "_model_module_version": "1.5.0",
            "_model_name": "DescriptionStyleModel",
            "_view_count": null,
            "_view_module": "@jupyter-widgets/base",
            "_view_module_version": "1.2.0",
            "_view_name": "StyleView",
            "description_width": ""
          }
        },
        "b9f9bdfbcfe34766894b9c732f247026": {
          "model_module": "@jupyter-widgets/base",
          "model_name": "LayoutModel",
          "model_module_version": "1.2.0",
          "state": {
            "_model_module": "@jupyter-widgets/base",
            "_model_module_version": "1.2.0",
            "_model_name": "LayoutModel",
            "_view_count": null,
            "_view_module": "@jupyter-widgets/base",
            "_view_module_version": "1.2.0",
            "_view_name": "LayoutView",
            "align_content": null,
            "align_items": null,
            "align_self": null,
            "border": null,
            "bottom": null,
            "display": null,
            "flex": null,
            "flex_flow": null,
            "grid_area": null,
            "grid_auto_columns": null,
            "grid_auto_flow": null,
            "grid_auto_rows": null,
            "grid_column": null,
            "grid_gap": null,
            "grid_row": null,
            "grid_template_areas": null,
            "grid_template_columns": null,
            "grid_template_rows": null,
            "height": null,
            "justify_content": null,
            "justify_items": null,
            "left": null,
            "margin": null,
            "max_height": null,
            "max_width": null,
            "min_height": null,
            "min_width": null,
            "object_fit": null,
            "object_position": null,
            "order": null,
            "overflow": null,
            "overflow_x": null,
            "overflow_y": null,
            "padding": null,
            "right": null,
            "top": null,
            "visibility": null,
            "width": null
          }
        },
        "7ddeaf7ca5e24f40909cdfcc1b8ed73a": {
          "model_module": "@jupyter-widgets/controls",
          "model_name": "ProgressStyleModel",
          "model_module_version": "1.5.0",
          "state": {
            "_model_module": "@jupyter-widgets/controls",
            "_model_module_version": "1.5.0",
            "_model_name": "ProgressStyleModel",
            "_view_count": null,
            "_view_module": "@jupyter-widgets/base",
            "_view_module_version": "1.2.0",
            "_view_name": "StyleView",
            "bar_color": null,
            "description_width": ""
          }
        },
        "d1ab294a69e3466980dfed55620c0399": {
          "model_module": "@jupyter-widgets/base",
          "model_name": "LayoutModel",
          "model_module_version": "1.2.0",
          "state": {
            "_model_module": "@jupyter-widgets/base",
            "_model_module_version": "1.2.0",
            "_model_name": "LayoutModel",
            "_view_count": null,
            "_view_module": "@jupyter-widgets/base",
            "_view_module_version": "1.2.0",
            "_view_name": "LayoutView",
            "align_content": null,
            "align_items": null,
            "align_self": null,
            "border": null,
            "bottom": null,
            "display": null,
            "flex": null,
            "flex_flow": null,
            "grid_area": null,
            "grid_auto_columns": null,
            "grid_auto_flow": null,
            "grid_auto_rows": null,
            "grid_column": null,
            "grid_gap": null,
            "grid_row": null,
            "grid_template_areas": null,
            "grid_template_columns": null,
            "grid_template_rows": null,
            "height": null,
            "justify_content": null,
            "justify_items": null,
            "left": null,
            "margin": null,
            "max_height": null,
            "max_width": null,
            "min_height": null,
            "min_width": null,
            "object_fit": null,
            "object_position": null,
            "order": null,
            "overflow": null,
            "overflow_x": null,
            "overflow_y": null,
            "padding": null,
            "right": null,
            "top": null,
            "visibility": null,
            "width": null
          }
        },
        "d3983370a4384cbbb1ca47a20caece64": {
          "model_module": "@jupyter-widgets/controls",
          "model_name": "DescriptionStyleModel",
          "model_module_version": "1.5.0",
          "state": {
            "_model_module": "@jupyter-widgets/controls",
            "_model_module_version": "1.5.0",
            "_model_name": "DescriptionStyleModel",
            "_view_count": null,
            "_view_module": "@jupyter-widgets/base",
            "_view_module_version": "1.2.0",
            "_view_name": "StyleView",
            "description_width": ""
          }
        },
        "9bb499bc45b94c3db002f2ec071e91e7": {
          "model_module": "@jupyter-widgets/controls",
          "model_name": "HBoxModel",
          "model_module_version": "1.5.0",
          "state": {
            "_dom_classes": [],
            "_model_module": "@jupyter-widgets/controls",
            "_model_module_version": "1.5.0",
            "_model_name": "HBoxModel",
            "_view_count": null,
            "_view_module": "@jupyter-widgets/controls",
            "_view_module_version": "1.5.0",
            "_view_name": "HBoxView",
            "box_style": "",
            "children": [
              "IPY_MODEL_8ecc8417f57147e0844c96d7bd7912ff",
              "IPY_MODEL_c3969a47aa1c4910b307c85c66e188a3",
              "IPY_MODEL_6bd4399a5a4a49d7be6f80bc7f7b81b9"
            ],
            "layout": "IPY_MODEL_0b82d6bb28734d95b29e99323b225680"
          }
        },
        "8ecc8417f57147e0844c96d7bd7912ff": {
          "model_module": "@jupyter-widgets/controls",
          "model_name": "HTMLModel",
          "model_module_version": "1.5.0",
          "state": {
            "_dom_classes": [],
            "_model_module": "@jupyter-widgets/controls",
            "_model_module_version": "1.5.0",
            "_model_name": "HTMLModel",
            "_view_count": null,
            "_view_module": "@jupyter-widgets/controls",
            "_view_module_version": "1.5.0",
            "_view_name": "HTMLView",
            "description": "",
            "description_tooltip": null,
            "layout": "IPY_MODEL_aaf8fe036240456793dd3572ebd4cdd3",
            "placeholder": "​",
            "style": "IPY_MODEL_5f90a82e993340ecb4021f8bb395866a",
            "value": "100%"
          }
        },
        "c3969a47aa1c4910b307c85c66e188a3": {
          "model_module": "@jupyter-widgets/controls",
          "model_name": "FloatProgressModel",
          "model_module_version": "1.5.0",
          "state": {
            "_dom_classes": [],
            "_model_module": "@jupyter-widgets/controls",
            "_model_module_version": "1.5.0",
            "_model_name": "FloatProgressModel",
            "_view_count": null,
            "_view_module": "@jupyter-widgets/controls",
            "_view_module_version": "1.5.0",
            "_view_name": "ProgressView",
            "bar_style": "success",
            "description": "",
            "description_tooltip": null,
            "layout": "IPY_MODEL_1899ac8712be40e6ad036ab81a3b8db5",
            "max": 7500,
            "min": 0,
            "orientation": "horizontal",
            "style": "IPY_MODEL_af7209d3ccd14ccfb440538f0fc0338c",
            "value": 7500
          }
        },
        "6bd4399a5a4a49d7be6f80bc7f7b81b9": {
          "model_module": "@jupyter-widgets/controls",
          "model_name": "HTMLModel",
          "model_module_version": "1.5.0",
          "state": {
            "_dom_classes": [],
            "_model_module": "@jupyter-widgets/controls",
            "_model_module_version": "1.5.0",
            "_model_name": "HTMLModel",
            "_view_count": null,
            "_view_module": "@jupyter-widgets/controls",
            "_view_module_version": "1.5.0",
            "_view_name": "HTMLView",
            "description": "",
            "description_tooltip": null,
            "layout": "IPY_MODEL_9089764e24e044a79be597b1bbc41bfd",
            "placeholder": "​",
            "style": "IPY_MODEL_479d86cceaf247718c4d22df91984ff3",
            "value": " 7500/7500 [00:14&lt;00:00, 574.43it/s]"
          }
        },
        "0b82d6bb28734d95b29e99323b225680": {
          "model_module": "@jupyter-widgets/base",
          "model_name": "LayoutModel",
          "model_module_version": "1.2.0",
          "state": {
            "_model_module": "@jupyter-widgets/base",
            "_model_module_version": "1.2.0",
            "_model_name": "LayoutModel",
            "_view_count": null,
            "_view_module": "@jupyter-widgets/base",
            "_view_module_version": "1.2.0",
            "_view_name": "LayoutView",
            "align_content": null,
            "align_items": null,
            "align_self": null,
            "border": null,
            "bottom": null,
            "display": null,
            "flex": null,
            "flex_flow": null,
            "grid_area": null,
            "grid_auto_columns": null,
            "grid_auto_flow": null,
            "grid_auto_rows": null,
            "grid_column": null,
            "grid_gap": null,
            "grid_row": null,
            "grid_template_areas": null,
            "grid_template_columns": null,
            "grid_template_rows": null,
            "height": null,
            "justify_content": null,
            "justify_items": null,
            "left": null,
            "margin": null,
            "max_height": null,
            "max_width": null,
            "min_height": null,
            "min_width": null,
            "object_fit": null,
            "object_position": null,
            "order": null,
            "overflow": null,
            "overflow_x": null,
            "overflow_y": null,
            "padding": null,
            "right": null,
            "top": null,
            "visibility": null,
            "width": null
          }
        },
        "aaf8fe036240456793dd3572ebd4cdd3": {
          "model_module": "@jupyter-widgets/base",
          "model_name": "LayoutModel",
          "model_module_version": "1.2.0",
          "state": {
            "_model_module": "@jupyter-widgets/base",
            "_model_module_version": "1.2.0",
            "_model_name": "LayoutModel",
            "_view_count": null,
            "_view_module": "@jupyter-widgets/base",
            "_view_module_version": "1.2.0",
            "_view_name": "LayoutView",
            "align_content": null,
            "align_items": null,
            "align_self": null,
            "border": null,
            "bottom": null,
            "display": null,
            "flex": null,
            "flex_flow": null,
            "grid_area": null,
            "grid_auto_columns": null,
            "grid_auto_flow": null,
            "grid_auto_rows": null,
            "grid_column": null,
            "grid_gap": null,
            "grid_row": null,
            "grid_template_areas": null,
            "grid_template_columns": null,
            "grid_template_rows": null,
            "height": null,
            "justify_content": null,
            "justify_items": null,
            "left": null,
            "margin": null,
            "max_height": null,
            "max_width": null,
            "min_height": null,
            "min_width": null,
            "object_fit": null,
            "object_position": null,
            "order": null,
            "overflow": null,
            "overflow_x": null,
            "overflow_y": null,
            "padding": null,
            "right": null,
            "top": null,
            "visibility": null,
            "width": null
          }
        },
        "5f90a82e993340ecb4021f8bb395866a": {
          "model_module": "@jupyter-widgets/controls",
          "model_name": "DescriptionStyleModel",
          "model_module_version": "1.5.0",
          "state": {
            "_model_module": "@jupyter-widgets/controls",
            "_model_module_version": "1.5.0",
            "_model_name": "DescriptionStyleModel",
            "_view_count": null,
            "_view_module": "@jupyter-widgets/base",
            "_view_module_version": "1.2.0",
            "_view_name": "StyleView",
            "description_width": ""
          }
        },
        "1899ac8712be40e6ad036ab81a3b8db5": {
          "model_module": "@jupyter-widgets/base",
          "model_name": "LayoutModel",
          "model_module_version": "1.2.0",
          "state": {
            "_model_module": "@jupyter-widgets/base",
            "_model_module_version": "1.2.0",
            "_model_name": "LayoutModel",
            "_view_count": null,
            "_view_module": "@jupyter-widgets/base",
            "_view_module_version": "1.2.0",
            "_view_name": "LayoutView",
            "align_content": null,
            "align_items": null,
            "align_self": null,
            "border": null,
            "bottom": null,
            "display": null,
            "flex": null,
            "flex_flow": null,
            "grid_area": null,
            "grid_auto_columns": null,
            "grid_auto_flow": null,
            "grid_auto_rows": null,
            "grid_column": null,
            "grid_gap": null,
            "grid_row": null,
            "grid_template_areas": null,
            "grid_template_columns": null,
            "grid_template_rows": null,
            "height": null,
            "justify_content": null,
            "justify_items": null,
            "left": null,
            "margin": null,
            "max_height": null,
            "max_width": null,
            "min_height": null,
            "min_width": null,
            "object_fit": null,
            "object_position": null,
            "order": null,
            "overflow": null,
            "overflow_x": null,
            "overflow_y": null,
            "padding": null,
            "right": null,
            "top": null,
            "visibility": null,
            "width": null
          }
        },
        "af7209d3ccd14ccfb440538f0fc0338c": {
          "model_module": "@jupyter-widgets/controls",
          "model_name": "ProgressStyleModel",
          "model_module_version": "1.5.0",
          "state": {
            "_model_module": "@jupyter-widgets/controls",
            "_model_module_version": "1.5.0",
            "_model_name": "ProgressStyleModel",
            "_view_count": null,
            "_view_module": "@jupyter-widgets/base",
            "_view_module_version": "1.2.0",
            "_view_name": "StyleView",
            "bar_color": null,
            "description_width": ""
          }
        },
        "9089764e24e044a79be597b1bbc41bfd": {
          "model_module": "@jupyter-widgets/base",
          "model_name": "LayoutModel",
          "model_module_version": "1.2.0",
          "state": {
            "_model_module": "@jupyter-widgets/base",
            "_model_module_version": "1.2.0",
            "_model_name": "LayoutModel",
            "_view_count": null,
            "_view_module": "@jupyter-widgets/base",
            "_view_module_version": "1.2.0",
            "_view_name": "LayoutView",
            "align_content": null,
            "align_items": null,
            "align_self": null,
            "border": null,
            "bottom": null,
            "display": null,
            "flex": null,
            "flex_flow": null,
            "grid_area": null,
            "grid_auto_columns": null,
            "grid_auto_flow": null,
            "grid_auto_rows": null,
            "grid_column": null,
            "grid_gap": null,
            "grid_row": null,
            "grid_template_areas": null,
            "grid_template_columns": null,
            "grid_template_rows": null,
            "height": null,
            "justify_content": null,
            "justify_items": null,
            "left": null,
            "margin": null,
            "max_height": null,
            "max_width": null,
            "min_height": null,
            "min_width": null,
            "object_fit": null,
            "object_position": null,
            "order": null,
            "overflow": null,
            "overflow_x": null,
            "overflow_y": null,
            "padding": null,
            "right": null,
            "top": null,
            "visibility": null,
            "width": null
          }
        },
        "479d86cceaf247718c4d22df91984ff3": {
          "model_module": "@jupyter-widgets/controls",
          "model_name": "DescriptionStyleModel",
          "model_module_version": "1.5.0",
          "state": {
            "_model_module": "@jupyter-widgets/controls",
            "_model_module_version": "1.5.0",
            "_model_name": "DescriptionStyleModel",
            "_view_count": null,
            "_view_module": "@jupyter-widgets/base",
            "_view_module_version": "1.2.0",
            "_view_name": "StyleView",
            "description_width": ""
          }
        }
      }
    },
    "accelerator": "GPU"
  },
  "cells": [
    {
      "cell_type": "markdown",
      "metadata": {
        "id": "view-in-github",
        "colab_type": "text"
      },
      "source": [
        "<a href=\"https://colab.research.google.com/github/Sina-Haz/Generative-Modelling/blob/main/score_jax.ipynb\" target=\"_parent\"><img src=\"https://colab.research.google.com/assets/colab-badge.svg\" alt=\"Open In Colab\"/></a>"
      ]
    },
    {
      "cell_type": "code",
      "source": [
        "# Seems like order matters when importing these libraries\n",
        "# Should always import equinox first and then jax apparently\n",
        "\n",
        "try:\n",
        "  import equinox as eqx\n",
        "except ModuleNotFoundError:\n",
        "  !pip install -q equinox\n",
        "  import equinox as eqx\n",
        "\n",
        "import jax\n",
        "import jax.numpy as np\n",
        "from jax.scipy.stats import norm\n",
        "from jax import grad, vmap\n",
        "import matplotlib.pyplot as plt\n",
        "import seaborn as sns"
      ],
      "metadata": {
        "colab": {
          "base_uri": "https://localhost:8080/"
        },
        "id": "wTtq7fDZERxM",
        "outputId": "798b356e-235d-43df-8a42-aff607fa2963"
      },
      "execution_count": 2,
      "outputs": [
        {
          "output_type": "stream",
          "name": "stdout",
          "text": [
            "\u001b[?25l   \u001b[90m━━━━━━━━━━━━━━━━━━━━━━━━━━━━━━━━━━━━━━━━\u001b[0m \u001b[32m0.0/179.2 kB\u001b[0m \u001b[31m?\u001b[0m eta \u001b[36m-:--:--\u001b[0m\r\u001b[2K   \u001b[90m━━━━━━━━━━━━━━━━━━━━━━━━━━━━━━━━━━━━━━━━\u001b[0m \u001b[32m179.2/179.2 kB\u001b[0m \u001b[31m5.9 MB/s\u001b[0m eta \u001b[36m0:00:00\u001b[0m\n",
            "\u001b[?25h\u001b[?25l   \u001b[90m━━━━━━━━━━━━━━━━━━━━━━━━━━━━━━━━━━━━━━━━\u001b[0m \u001b[32m0.0/2.2 MB\u001b[0m \u001b[31m?\u001b[0m eta \u001b[36m-:--:--\u001b[0m\r\u001b[2K   \u001b[91m━━━━━━━━━━━━━━━━━━━━━━━━━━━━━━━━━━━━\u001b[0m\u001b[90m╺\u001b[0m\u001b[90m━━━\u001b[0m \u001b[32m2.0/2.2 MB\u001b[0m \u001b[31m56.4 MB/s\u001b[0m eta \u001b[36m0:00:01\u001b[0m\r\u001b[2K   \u001b[90m━━━━━━━━━━━━━━━━━━━━━━━━━━━━━━━━━━━━━━━━\u001b[0m \u001b[32m2.2/2.2 MB\u001b[0m \u001b[31m32.8 MB/s\u001b[0m eta \u001b[36m0:00:00\u001b[0m\n",
            "\u001b[2K   \u001b[90m━━━━━━━━━━━━━━━━━━━━━━━━━━━━━━━━━━━━━━━━\u001b[0m \u001b[32m55.8/55.8 kB\u001b[0m \u001b[31m1.8 MB/s\u001b[0m eta \u001b[36m0:00:00\u001b[0m\n",
            "\u001b[2K   \u001b[90m━━━━━━━━━━━━━━━━━━━━━━━━━━━━━━━━━━━━━━━━\u001b[0m \u001b[32m101.7/101.7 MB\u001b[0m \u001b[31m6.1 MB/s\u001b[0m eta \u001b[36m0:00:00\u001b[0m\n",
            "\u001b[?25h"
          ]
        }
      ]
    },
    {
      "cell_type": "code",
      "source": [
        "fig, axes = plt.subplots(figsize=(8, 3), nrows=1, ncols=3, sharex=True)\n",
        "\n",
        "plt.sca(axes[0])\n",
        "x = np.linspace(-3.5, 3.5, 1000)\n",
        "y = norm.pdf(x)\n",
        "plt.plot(x, y, color=\"black\")\n",
        "plt.xlabel(\"Support\")\n",
        "plt.ylabel(\"Likelihood\")\n",
        "plt.title(\"PDF\")\n",
        "sns.despine()\n",
        "\n",
        "y = norm.logpdf(x)\n",
        "plt.sca(axes[1])\n",
        "plt.plot(x, y, color=\"black\")\n",
        "plt.xlabel(\"Support\")\n",
        "plt.ylabel(\"logP(x)\")\n",
        "plt.title(\"Log PDF\")\n",
        "\n",
        "# Tangent Line\n",
        "def line(x):\n",
        "    return grad(norm.logpdf)(x_pt) * (x - x_pt) + y_pt\n",
        "x_pt = -1.5\n",
        "y_pt = norm.logpdf(x_pt)\n",
        "xrange = np.linspace(x_pt - 1, x_pt + 1, 10)\n",
        "plt.plot(x, y, color=\"black\")\n",
        "plt.scatter(x_pt, y_pt, color=\"gray\")\n",
        "plt.plot(xrange, vmap(line)(xrange), color=\"gray\", ls=\"--\")\n",
        "\n",
        "\n",
        "plt.sca(axes[2])\n",
        "plt.plot(x, vmap(grad(norm.logpdf))(x), color=\"black\")\n",
        "plt.axhline(y=0, ls=\"--\", color=\"black\")\n",
        "plt.axvline(x=0, ls=\"--\", color=\"black\")\n",
        "plt.xlabel(\"Support\")\n",
        "plt.ylabel(\"dlogP(x)\")\n",
        "plt.title(\"Score\")\n",
        "\n",
        "sns.despine()\n",
        "plt.tight_layout()"
      ],
      "metadata": {
        "colab": {
          "base_uri": "https://localhost:8080/",
          "height": 307
        },
        "id": "Samay3RSm91E",
        "outputId": "e3c1e35a-ccc2-425e-b97b-461af52fb783"
      },
      "execution_count": 3,
      "outputs": [
        {
          "output_type": "display_data",
          "data": {
            "text/plain": [
              "<Figure size 800x300 with 3 Axes>"
            ],
            "image/png": "[encoded data removed]"
          },
          "metadata": {}
        }
      ]
    },
    {
      "cell_type": "code",
      "source": [
        "# Get gaussian score and assert that for normal standard its just -x\n",
        "gaussian_score = grad(norm.logpdf)\n",
        "gaussian_score(-4.), gaussian_score(0.), gaussian_score(4.)"
      ],
      "metadata": {
        "colab": {
          "base_uri": "https://localhost:8080/"
        },
        "id": "UvU1qrQlnPvL",
        "outputId": "8ce70565-f45a-4bf7-e438-572738706aa1"
      },
      "execution_count": 4,
      "outputs": [
        {
          "output_type": "execute_result",
          "data": {
            "text/plain": [
              "(Array(4., dtype=float32, weak_type=True),\n",
              " Array(-0., dtype=float32, weak_type=True),\n",
              " Array(-4., dtype=float32, weak_type=True))"
            ]
          },
          "metadata": {},
          "execution_count": 4
        }
      ]
    },
    {
      "cell_type": "code",
      "source": [
        "from jax import random\n",
        "\n",
        "# Define our distribution as normal(mu = 3, sigma = 1)\n",
        "key = random.PRNGKey(44)\n",
        "true_mu, true_sigma = 2, 2.5\n",
        "normal_data = random.normal(key, shape=(5000,1)) * true_sigma + true_mu"
      ],
      "metadata": {
        "id": "Fb2Os1VSneyN"
      },
      "execution_count": 5,
      "outputs": []
    },
    {
      "cell_type": "code",
      "source": [
        "# Let's make a gaussian model\n",
        "from jax import jacfwd\n",
        "\n",
        "class GaussianScoreModel(eqx.Module):\n",
        "  mu: np.array = np.array(0.0)\n",
        "  log_sigma: np.array = np.array(0.0)\n",
        "\n",
        "  @eqx.filter_jit\n",
        "  def __call__(self, x):\n",
        "    score = jacfwd(norm.logpdf)\n",
        "    return score(x, loc=self.mu, scale=np.exp(self.log_sigma))\n",
        "\n",
        "\n",
        "gauss_model = GaussianScoreModel()\n",
        "gauss_model(-3.), gauss_model(0.), gauss_model(3.)"
      ],
      "metadata": {
        "colab": {
          "base_uri": "https://localhost:8080/"
        },
        "id": "Bs8ZSFFLoBAA",
        "outputId": "daf020e2-4199-4ac0-cb53-c22879386de0"
      },
      "execution_count": 6,
      "outputs": [
        {
          "output_type": "execute_result",
          "data": {
            "text/plain": [
              "(Array(3., dtype=float32, weak_type=True),\n",
              " Array(-0., dtype=float32, weak_type=True),\n",
              " Array(-3., dtype=float32, weak_type=True))"
            ]
          },
          "metadata": {},
          "execution_count": 6
        }
      ]
    },
    {
      "cell_type": "code",
      "source": [
        "# Lets make sure we can call this model over all of the data, squeeze this b/c resulting output is 3D tensor\n",
        "data_score = vmap(gauss_model)(normal_data).squeeze()\n",
        "\n",
        "data_score[0:3], normal_data.mean(), normal_data.std()"
      ],
      "metadata": {
        "colab": {
          "base_uri": "https://localhost:8080/"
        },
        "id": "TSHtw1RvqZvr",
        "outputId": "5f555347-5ad9-4bcd-ca7f-0c9b65e47d59"
      },
      "execution_count": 7,
      "outputs": [
        {
          "output_type": "execute_result",
          "data": {
            "text/plain": [
              "(Array([-4.9395485, -6.2203717, -6.1720495], dtype=float32),\n",
              " Array(1.9816449, dtype=float32),\n",
              " Array(2.5315151, dtype=float32))"
            ]
          },
          "metadata": {},
          "execution_count": 7
        }
      ]
    },
    {
      "cell_type": "code",
      "source": [
        "# Let's see what the actual scores vs. our untrained scores look like\n",
        "\n",
        "true_model = GaussianScoreModel(mu=true_mu, log_sigma=np.log(true_sigma))\n",
        "true_model_scores = vmap(true_model)(normal_data)\n",
        "plt.scatter(normal_data.squeeze(), true_model_scores.squeeze(), label=\"True Score Model\")\n",
        "plt.scatter(normal_data.squeeze(), data_score.squeeze(), label=\"Initialized Score Model\")\n",
        "plt.xlabel(\"Support\")\n",
        "plt.ylabel(\"Score\")\n",
        "plt.legend();"
      ],
      "metadata": {
        "colab": {
          "base_uri": "https://localhost:8080/",
          "height": 449
        },
        "id": "jttQsLdzq0Ze",
        "outputId": "02b6bd01-fbb2-4e9d-f64d-d85a341f5298"
      },
      "execution_count": 8,
      "outputs": [
        {
          "output_type": "display_data",
          "data": {
            "text/plain": [
              "<Figure size 640x480 with 1 Axes>"
            ],
            "image/png": "[encoded data removed]"
          },
          "metadata": {}
        }
      ]
    },
    {
      "cell_type": "code",
      "source": [
        "# Implement score matching loss to train our gaussian model with gradient descent\n",
        "from typing import Callable, List, Tuple\n",
        "import optax\n",
        "from tqdm.auto import tqdm\n",
        "\n",
        "def score_matching_loss(model, data):\n",
        "  '''\n",
        "  data should have shape (batch, :), at least a 2D tensor\n",
        "  '''\n",
        "  # Compute the hessians of the logpdf (or jacobian of score fn)\n",
        "  hess = vmap(jacfwd(model))(data)\n",
        "\n",
        "  # Get the diagonals of the Hessians, correspond to derivative of score fn w.r.t. i-th data dimension\n",
        "  # If it's a 2D tensor, add another dimension so that when we call np.diagonal it reduces dim instead of increasing it\n",
        "  if hess.shape[-1] == 1 and len(hess.shape)==2:\n",
        "    hess = np.expand_dims(hess, -1)\n",
        "  term1 = vmap(np.diagonal)(hess)\n",
        "\n",
        "  term2 = 0.5 * vmap(model)(data)**2\n",
        "  term2 = np.reshape(term2, term1.shape) # reshape to be like term 1\n",
        "\n",
        "  inner = term1 + term2\n",
        "  # sum along data dimensions (mapping np.sum to each individual data tensor ensures final shape is (batch, ))\n",
        "  inner = vmap(np.sum)(inner)\n",
        "\n",
        "  # Now average over the entire batch of data\n",
        "  loss = np.mean(inner)\n",
        "  return loss\n",
        "\n",
        "def fit(\n",
        "    model: eqx.Module,\n",
        "    data: np.array,\n",
        "    loss_fn: Callable,\n",
        "    optimizer: optax.GradientTransformation,\n",
        "    steps: int,\n",
        "    progress_bar: bool = True,\n",
        "  ) -> Tuple[List[eqx.Module], List]:\n",
        "  \"\"\"\n",
        "  Fit model to data\n",
        "\n",
        "  data should have shape (batch, :), at least a 2D tensor\n",
        "\n",
        "  returns updated model + loss training history\n",
        "  \"\"\"\n",
        "  # Set up the state of the optimizer, filtering for weights which are inexact (which is apparently anything that is floating point)\n",
        "  opt_state = optimizer.init(eqx.filter(model, eqx.is_inexact_array))\n",
        "\n",
        "  # Here we call filter_value_and_grad s.t. it returns pair (value, grad). We jit compile it too to be faster\n",
        "  dloss = eqx.filter_jit(eqx.filter_value_and_grad(loss_fn))\n",
        "\n",
        "  @eqx.filter_jit\n",
        "  def step(model, opt_state, data):\n",
        "    \"\"\"\n",
        "    One step of training loop, jitted to run faster\n",
        "    \"\"\"\n",
        "\n",
        "    loss, grads = dloss(model, data)\n",
        "\n",
        "    # Next we compute the updates and obtain optimizer state\n",
        "    updates, opt_state = optimizer.update(grads, opt_state)\n",
        "\n",
        "    # Apply updates to the model\n",
        "    model = eqx.apply_updates(model, updates)\n",
        "    return model, opt_state, loss\n",
        "\n",
        "  loss_hist = []\n",
        "  iterator = range(steps)\n",
        "  if progress_bar: iterator = tqdm(iterator)\n",
        "\n",
        "  for _ in iterator:\n",
        "    model, opt_state, loss = step(model, opt_state, data)\n",
        "    loss_hist.append(loss)\n",
        "  return model, loss_hist\n",
        "\n",
        "score_matching_loss(gauss_model, normal_data)"
      ],
      "metadata": {
        "colab": {
          "base_uri": "https://localhost:8080/"
        },
        "id": "QJwtiG2orM22",
        "outputId": "77853826-2e0d-4ca6-b11a-555ce797964e"
      },
      "execution_count": 9,
      "outputs": [
        {
          "output_type": "execute_result",
          "data": {
            "text/plain": [
              "Array(4.1677423, dtype=float32)"
            ]
          },
          "metadata": {},
          "execution_count": 9
        }
      ]
    },
    {
      "cell_type": "code",
      "source": [
        "# Now let's train the model\n",
        "opt = optax.adam(learning_rate=5e-3)\n",
        "updated_model, loss_hist = fit(gauss_model, normal_data, score_matching_loss, opt, 2000, progress_bar=True)"
      ],
      "metadata": {
        "colab": {
          "base_uri": "https://localhost:8080/",
          "height": 49,
          "referenced_widgets": [
            "deb38b7ff85a491282e8e62a1e308120",
            "3ee076dd673c4cc88bf9e5efd8080ba7",
            "0aac79c023df40f3aeba1fa284d59e9d",
            "a4cc7e8c01994401bb4585322667b27b",
            "50f5054c6efc49d8b8850dcd1fc9e6d1",
            "4bfb379be1874912b2d159e49063c862",
            "33a48f4e3dc14dbe9abc2eafc704d43b",
            "62a2355a47b64ccfb57204eb1e803866",
            "869bf82269744fcc97f67dcc6ce5a5bb",
            "1008c27401214ecf8db27622f0afe6bf",
            "19844df222584924b424ffa47965d9f7"
          ]
        },
        "id": "zP3qnZ7tyYz4",
        "outputId": "3b774962-feee-49f9-9297-8aa25aca30c7"
      },
      "execution_count": 10,
      "outputs": [
        {
          "output_type": "display_data",
          "data": {
            "text/plain": [
              "  0%|          | 0/2000 [00:00<?, ?it/s]"
            ],
            "application/vnd.jupyter.widget-view+json": {
              "version_major": 2,
              "version_minor": 0,
              "model_id": "deb38b7ff85a491282e8e62a1e308120"
            }
          },
          "metadata": {}
        }
      ]
    },
    {
      "cell_type": "code",
      "source": [
        "fig, axes = plt.subplots(figsize=(8, 4), ncols=2)\n",
        "\n",
        "\n",
        "plt.sca(axes[0])\n",
        "plt.plot(loss_hist)\n",
        "plt.xlabel(\"Training Iteration\")\n",
        "plt.ylabel(\"Score Matching Loss\")\n",
        "plt.title(\"Score Matching Loss History\")\n",
        "sns.despine()\n",
        "\n",
        "plt.sca(axes[1])\n",
        "updated_model_scores = vmap(updated_model)(normal_data)\n",
        "plt.scatter(updated_model_scores.squeeze(), true_model_scores.squeeze())\n",
        "plt.xlabel(\"Estimated Scores\")\n",
        "plt.ylabel(\"True Model\")\n",
        "plt.title(\"True vs. Estimated Score\");"
      ],
      "metadata": {
        "colab": {
          "base_uri": "https://localhost:8080/",
          "height": 410
        },
        "id": "-yy5eKmzy4Ka",
        "outputId": "f8ae8345-02ac-47d4-d7b9-df7948682da6"
      },
      "execution_count": 11,
      "outputs": [
        {
          "output_type": "display_data",
          "data": {
            "text/plain": [
              "<Figure size 800x400 with 2 Axes>"
            ],
            "image/png": "[encoded data removed]"
          },
          "metadata": {}
        }
      ]
    },
    {
      "cell_type": "code",
      "source": [
        "np.mean(normal_data), np.std(normal_data), updated_model.mu, np.exp(updated_model.log_sigma) # As we can see it matches up very well with data"
      ],
      "metadata": {
        "colab": {
          "base_uri": "https://localhost:8080/"
        },
        "id": "2HOqOZ7b0XIF",
        "outputId": "6b3d9421-6f4a-4fcf-da6f-f90a4a64b547"
      },
      "execution_count": 12,
      "outputs": [
        {
          "output_type": "execute_result",
          "data": {
            "text/plain": [
              "(Array(1.9816449, dtype=float32),\n",
              " Array(2.5315151, dtype=float32),\n",
              " Array(1.5432378, dtype=float32),\n",
              " Array(2.5711524, dtype=float32))"
            ]
          },
          "metadata": {},
          "execution_count": 12
        }
      ]
    },
    {
      "cell_type": "code",
      "source": [
        "# So clearly the loss function seems to work for our gaussian model, but what if now we assume we don't know the form of the logpdf\n",
        "# and instead try to approximate score function via MLP?\n",
        "from jax.tree_util import tree_flatten, tree_map\n",
        "\n",
        "# Define mlp via equinox syntax\n",
        "mlp = eqx.nn.MLP(\n",
        "    in_size = 1,\n",
        "    out_size = 1,\n",
        "    width_size = 1024,\n",
        "    depth=1,\n",
        "    key=random.PRNGKey(45)\n",
        ")\n",
        "\n",
        "# Define regularized loss to penalize model for large weights\n",
        "def regularized_loss(model, data):\n",
        "  sm_loss = score_matching_loss(model, data)\n",
        "\n",
        "  # compute l2 norm\n",
        "  params = eqx.filter(model, eqx.is_array_like)\n",
        "  squared = tree_map(lambda x: np.power(x, 2), params)\n",
        "  summed = tree_map(np.sum, squared)\n",
        "  flattened, _ = tree_flatten(summed)\n",
        "\n",
        "  l2_norm = np.mean(np.array(flattened)) * 0.05 # scale it down too\n",
        "\n",
        "  return sm_loss + l2_norm"
      ],
      "metadata": {
        "id": "2LpWyMi30eY6"
      },
      "execution_count": 13,
      "outputs": []
    },
    {
      "cell_type": "code",
      "source": [
        "optimizer = optax.chain(\n",
        "    optax.clip(0.01),\n",
        "    optax.sgd(learning_rate=5e-3),\n",
        ")\n",
        "\n",
        "updated_mlp, history = fit(\n",
        "    mlp,\n",
        "    normal_data,\n",
        "    score_matching_loss,\n",
        "    optimizer,\n",
        "    steps=1000,\n",
        ")"
      ],
      "metadata": {
        "colab": {
          "base_uri": "https://localhost:8080/",
          "height": 49,
          "referenced_widgets": [
            "9298d328a9f34b638029d4267459e18e",
            "9caf05e485244d7a91e9d9b59d60f868",
            "d9091207d9ce416abcdc17b596fbc63f",
            "172deb06f7094da9bed6a53254399cb7",
            "10962a90b77f420fa4ab0cd83e7a54c3",
            "4e5e34f83b3549bf8da9b04f187f51e1",
            "97fc5b23ebce404b81902d4775deb630",
            "6f1e28bdc98d4dc196ca2ad589899692",
            "9fb5dd33bca64bc1a0907608fc744a5e",
            "3262221e7a60499a92263d499a1b9a7c",
            "b55a7e1312774a4794547c4a11bb00b4"
          ]
        },
        "id": "SeSHnnBT3bEy",
        "outputId": "21d49dfe-0849-4e49-e780-6debcc2fbf57"
      },
      "execution_count": 14,
      "outputs": [
        {
          "output_type": "display_data",
          "data": {
            "text/plain": [
              "  0%|          | 0/1000 [00:00<?, ?it/s]"
            ],
            "application/vnd.jupyter.widget-view+json": {
              "version_major": 2,
              "version_minor": 0,
              "model_id": "9298d328a9f34b638029d4267459e18e"
            }
          },
          "metadata": {}
        }
      ]
    },
    {
      "cell_type": "code",
      "source": [
        "fig, axes = plt.subplots(figsize=(8, 4), ncols=2)\n",
        "\n",
        "plt.sca(axes[0])\n",
        "plt.plot(history)\n",
        "plt.xlabel(\"Training Iteration\")\n",
        "plt.ylabel(\"Loss Value\")\n",
        "plt.title(\"Score Matching Loss History\")\n",
        "sns.despine()\n",
        "\n",
        "plt.sca(axes[1])\n",
        "updated_model_scores = vmap(updated_mlp)(normal_data).squeeze()\n",
        "plt.scatter(normal_data.squeeze(), true_model_scores, label=\"True Model Scores\")\n",
        "plt.scatter(normal_data.squeeze(), updated_model_scores, label=\"Feed Forward Estimate\")\n",
        "plt.xlabel(\"Support\")\n",
        "plt.ylabel(\"Score\")\n",
        "plt.title(\"True vs. Estimated Score\")\n",
        "plt.legend();"
      ],
      "metadata": {
        "colab": {
          "base_uri": "https://localhost:8080/",
          "height": 410
        },
        "id": "fSr4k-Jq37nE",
        "outputId": "78a74f17-d0cf-492a-83cb-312c1ff9322d"
      },
      "execution_count": 15,
      "outputs": [
        {
          "output_type": "display_data",
          "data": {
            "text/plain": [
              "<Figure size 800x400 with 2 Axes>"
            ],
            "image/png": "[encoded data removed]"
          },
          "metadata": {}
        }
      ]
    },
    {
      "cell_type": "markdown",
      "source": [
        "### Final Comments on Modelling Gaussians\n",
        "\n",
        "Seems we can learn 1D gaussians pretty well.\n",
        "I want to note that when I experimented with gaussians with very large standard deviation I got nan results\n",
        " - this is likely because of numerical overflow in the loss function as the hessian of the estimated score function was too large for data that was very spread out\n",
        " - Possible fix: maybe scale down the magnitude of the weights when initializing my model? Look into numerical stability and clipping of the jacfwd function?\n",
        "\n",
        " Anyways, now let's ensure that our score model can learn the score of a gaussian mixture distribution which is much more nonlinear and complex\n"
      ],
      "metadata": {
        "id": "YhFg-7vlGD_f"
      }
    },
    {
      "cell_type": "markdown",
      "source": [
        "### Modelling Mixture Distributions\n",
        "Now we will try to model more complex, multimodal distributions via score-matching.\n",
        "\n",
        "To do this we will implement mixture gaussians which have the pdf: $$p(x) = \\sum_{i=1}^K \\pi_i N(x; \\mu_i, \\Sigma_i)$$\n",
        "\n",
        "Where there are K gaussians each with their own parameters $\\mu, \\Sigma$ and $\\pi$ is the weight assigned to each"
      ],
      "metadata": {
        "id": "LIPbdOhx-CRE"
      }
    },
    {
      "cell_type": "code",
      "source": [
        "from functools import partial\n",
        "\n",
        "\n",
        "class MixtureGaussian(eqx.Module):\n",
        "  pi: np.array\n",
        "  mus: np.array\n",
        "  logsigmas: np.array\n",
        "\n",
        "  def __init__(self, mus, logsigmas, pi):\n",
        "    self.mus = mus\n",
        "    self.logsigmas = logsigmas\n",
        "    self.pi = pi\n",
        "\n",
        "    # Check that mus, log_sigmas, and ws are of the same length.\n",
        "    lengths = set(map(len, [mus, logsigmas, pi]))\n",
        "    if len(lengths) != 1:\n",
        "        raise ValueError(\n",
        "            \"`mus`, `log_sigmas` and `ws` must all be of the same length!\"\n",
        "        )\n",
        "\n",
        "  def pdf(self, x):\n",
        "    return np.sum(self.pi * norm.pdf(x, loc=self.mus, scale=np.exp(self.logsigmas)))\n",
        "\n",
        "  def lpdf(self, x):\n",
        "    return np.log(self.pdf(x))\n",
        "\n",
        "  # Fix this\n",
        "  def logpdf(self, x):\n",
        "    log_gaussians = vmap(partial(norm.logpdf, x)) (self.mus, np.exp(self.logsigmas))\n",
        "    weighted_gaussians = log_gaussians * np.log(self.pi)\n",
        "    log_pdf = np.logaddexp.reduce(weighted_gaussians)\n",
        "    return log_pdf\n",
        "\n",
        "\n",
        "  def sample(self, n_samples):\n",
        "    # For each sample decide which gaussian to sample from based on weights\n",
        "    props = np.round(n_samples * self.pi).astype(int)\n",
        "\n",
        "    samples = [random.normal(key=key, shape=(prop, ), dtype=np.float32)*sigma + mu for prop,sigma,mu in zip(props,np.exp(self.logsigmas), self.mus)]\n",
        "    samples = np.concatenate(samples)\n",
        "    return samples\n",
        "\n",
        "  @eqx.filter_jit\n",
        "  def __call__(self, x):\n",
        "    score = jacfwd(self.lpdf)\n",
        "    return score(x)\n"
      ],
      "metadata": {
        "id": "NXiaboo_GCqV"
      },
      "execution_count": 47,
      "outputs": []
    },
    {
      "cell_type": "code",
      "source": [
        "\n",
        "# Now we can plot distribution + it's score fn\n",
        "x = np.linspace(-10, 10, 200)\n",
        "mus = np.array([-3, 3])\n",
        "sigmas = np.array([1, 1])\n",
        "ws = np.array([0.1, 0.9])\n",
        "\n",
        "mgmodel = MixtureGaussian(pi=ws, mus=mus, logsigmas=np.log(sigmas))\n",
        "\n",
        "fig, axes = plt.subplots(figsize=(8, 4), ncols=2)\n",
        "\n",
        "plt.sca(axes[0])\n",
        "draws = 15000\n",
        "mg2_data = mgmodel.sample(draws)\n",
        "plt.hist(mg2_data, bins=100)\n",
        "plt.title(\"Mixture Gaussian Histogram\")\n",
        "plt.xlabel(\"Support\")\n",
        "plt.ylabel(\"Count\")\n",
        "\n",
        "mg2_data = mg2_data.reshape(-1,1) # give it an extra dimension so we can feed it to our mlp model\n",
        "\n",
        "print(np.allclose(vmap(mgmodel.logpdf)(x), vmap(mgmodel.lpdf)(x)))\n",
        "\n",
        "plt.sca(axes[1])\n",
        "plt.plot(x, vmap(mgmodel)(x))\n",
        "plt.xlabel(\"Support\")\n",
        "plt.ylabel(\"Score\")\n",
        "plt.title(\"Mixture Gaussian Score\")"
      ],
      "metadata": {
        "colab": {
          "base_uri": "https://localhost:8080/",
          "height": 444
        },
        "id": "LrF_AYtONK32",
        "outputId": "86b1e9b7-917f-4ab0-8274-096fc30fb0ca"
      },
      "execution_count": 48,
      "outputs": [
        {
          "output_type": "stream",
          "name": "stdout",
          "text": [
            "False\n"
          ]
        },
        {
          "output_type": "execute_result",
          "data": {
            "text/plain": [
              "Text(0.5, 1.0, 'Mixture Gaussian Score')"
            ]
          },
          "metadata": {},
          "execution_count": 48
        },
        {
          "output_type": "display_data",
          "data": {
            "text/plain": [
              "<Figure size 800x400 with 2 Axes>"
            ],
            "image/png": "[encoded data removed]"
          },
          "metadata": {}
        }
      ]
    },
    {
      "cell_type": "code",
      "source": [
        "# Now we will fit this with a NN model, I find that score_matching_loss w/o L2 regularization works better here\n",
        "mlp_mgm = eqx.nn.MLP(\n",
        "    in_size = 1,\n",
        "    out_size = 1,\n",
        "    width_size = 1024,\n",
        "    depth=1,\n",
        "    key=random.PRNGKey(45)\n",
        ")\n",
        "\n",
        "optimizer = optax.chain(\n",
        "    optax.clip(0.01),\n",
        "    optax.sgd(learning_rate=5e-3)\n",
        ")\n",
        "\n",
        "mgm_mlp, losses = fit(\n",
        "    mlp_mgm,\n",
        "    mg2_data,\n",
        "    score_matching_loss,\n",
        "    optimizer,\n",
        "    steps=3_000\n",
        ")"
      ],
      "metadata": {
        "colab": {
          "base_uri": "https://localhost:8080/",
          "height": 49,
          "referenced_widgets": [
            "b7d33f7fca8f4311a8ce73154c474e06",
            "0fefb04a89004b9dbc1c395d3ee3738a",
            "92b02dd6818c475cb711544c3956a52a",
            "5d20dbdea4394846a1f09970e56d307d",
            "c5a1637526004f379b986335da0b6247",
            "5518eccc08bd42089a3017fff537d4dc",
            "cbf8ca217e964d1d86ffc40f958d6293",
            "f9bc5ec24304475ab9b3e6dff769f2f8",
            "6379b28deba444ad8e3c08ba52a640db",
            "d3a28c46a3a24a1f96a8f674ee2b7f41",
            "a3853e8980284233854b98b03498a5e6"
          ]
        },
        "id": "fyKcjVa5HJGF",
        "outputId": "0995c0a3-e847-4ade-adb6-ea90e418545d"
      },
      "execution_count": 18,
      "outputs": [
        {
          "output_type": "display_data",
          "data": {
            "text/plain": [
              "  0%|          | 0/3000 [00:00<?, ?it/s]"
            ],
            "application/vnd.jupyter.widget-view+json": {
              "version_major": 2,
              "version_minor": 0,
              "model_id": "b7d33f7fca8f4311a8ce73154c474e06"
            }
          },
          "metadata": {}
        }
      ]
    },
    {
      "cell_type": "code",
      "source": [
        "true_scores, model_scores = vmap(mgmodel)(mg2_data).squeeze(), vmap(mgm_mlp)(mg2_data).squeeze()\n",
        "\n",
        "\n",
        "fig, axes = plt.subplots(figsize=(8, 4), ncols=2)\n",
        "\n",
        "plt.sca(axes[0])\n",
        "plt.plot(losses)\n",
        "plt.xlabel(\"Training Iteration\")\n",
        "plt.ylabel(\"Loss Value\")\n",
        "plt.title(\"Score Matching Loss History\")\n",
        "\n",
        "plt.sca(axes[1])\n",
        "plt.scatter(mg2_data.squeeze(), true_scores, label=\"True Model Scores\")\n",
        "plt.scatter(mg2_data.squeeze(), model_scores, label=\"Feed Forward Estimate\")\n",
        "plt.xlabel(\"Support\")\n",
        "plt.ylabel(\"Score\")\n",
        "plt.title(\"True vs. Estimated Score\")\n",
        "plt.legend();"
      ],
      "metadata": {
        "colab": {
          "base_uri": "https://localhost:8080/",
          "height": 410
        },
        "id": "5jr7awuSL7MI",
        "outputId": "db7778df-ca24-40d0-9e2a-2ac7406013ef"
      },
      "execution_count": 19,
      "outputs": [
        {
          "output_type": "display_data",
          "data": {
            "text/plain": [
              "<Figure size 800x400 with 2 Axes>"
            ],
            "image/png": "[encoded data removed]"
          },
          "metadata": {}
        }
      ]
    },
    {
      "cell_type": "code",
      "source": [
        "# Not bad at all! let's do the same for 3-comp mixture!!!\n",
        "x = np.linspace(-11, 6, 200)\n",
        "mus = np.array([-7, -2, 3])\n",
        "sigmas = np.ones(3)\n",
        "ws = np.array([0.1, 0.4, 0.5])\n",
        "\n",
        "g3_model = MixtureGaussian(pi=ws, mus=mus, logsigmas=np.log(sigmas))\n",
        "g3_data = g3_model.sample(1_000)\n",
        "\n",
        "fig, axes = plt.subplots(figsize=(8, 4), ncols=2)\n",
        "\n",
        "plt.sca(axes[0])\n",
        "plt.hist(g3_data, bins=100)\n",
        "plt.title(\"Mixture Gaussian Histogram\")\n",
        "plt.xlabel(\"Support\")\n",
        "plt.ylabel(\"Count\")\n",
        "\n",
        "g3_data = g3_data.reshape(-1,1) # give it an extra dimension so we can feed it to our mlp model\n",
        "\n",
        "plt.sca(axes[1])\n",
        "plt.plot(x, vmap(g3_model)(x))\n",
        "plt.xlabel(\"Support\")\n",
        "plt.ylabel(\"Score\")\n",
        "plt.title(\"Mixture Gaussian Score\")"
      ],
      "metadata": {
        "colab": {
          "base_uri": "https://localhost:8080/",
          "height": 427
        },
        "id": "BW9Q5oAsM88R",
        "outputId": "04badd57-d4c3-4fb9-ec68-4b220bfec97a"
      },
      "execution_count": 20,
      "outputs": [
        {
          "output_type": "execute_result",
          "data": {
            "text/plain": [
              "Text(0.5, 1.0, 'Mixture Gaussian Score')"
            ]
          },
          "metadata": {},
          "execution_count": 20
        },
        {
          "output_type": "display_data",
          "data": {
            "text/plain": [
              "<Figure size 800x400 with 2 Axes>"
            ],
            "image/png": "[encoded data removed]"
          },
          "metadata": {}
        }
      ]
    },
    {
      "cell_type": "code",
      "source": [
        "# sanity check this works with a defined mixture gaussian model\n",
        "mg3_model = MixtureGaussian(pi=np.ones(3)/3, mus=np.array([-5.0, -1.0, 1.0]), logsigmas=np.log(np.ones(3) / 2)) # Make mus floats so that it's included in gradient computation\n",
        "\n",
        "optimizer = optax.adam(learning_rate=1e-3)\n",
        "\n",
        "updated, losses = fit(\n",
        "    mg3_model,\n",
        "    g3_data,\n",
        "    score_matching_loss,\n",
        "    optimizer,\n",
        "    steps=2_000\n",
        ")"
      ],
      "metadata": {
        "colab": {
          "base_uri": "https://localhost:8080/",
          "height": 49,
          "referenced_widgets": [
            "5f8345bac8df46b9aff4169d95b2652f",
            "afb56e03b30c446fb5e39c9828f4956b",
            "1f274c20824d4dd7917f508f85426c91",
            "1d4b3dc8927a4b31a91cafb563157411",
            "0ed0d28a89b444ffbc6e8b708b3b86c7",
            "c44d6d324cf24b99a0bc950d1d478e03",
            "51c4f29273fb4198a90c1681203e9f36",
            "b9f9bdfbcfe34766894b9c732f247026",
            "7ddeaf7ca5e24f40909cdfcc1b8ed73a",
            "d1ab294a69e3466980dfed55620c0399",
            "d3983370a4384cbbb1ca47a20caece64"
          ]
        },
        "id": "ZEHgCbg-Cyt4",
        "outputId": "a37fcdfd-db85-46e7-92dd-d2dd794a6df4"
      },
      "execution_count": 31,
      "outputs": [
        {
          "output_type": "display_data",
          "data": {
            "text/plain": [
              "  0%|          | 0/2000 [00:00<?, ?it/s]"
            ],
            "application/vnd.jupyter.widget-view+json": {
              "version_major": 2,
              "version_minor": 0,
              "model_id": "5f8345bac8df46b9aff4169d95b2652f"
            }
          },
          "metadata": {}
        }
      ]
    },
    {
      "cell_type": "code",
      "source": [
        "fig, axes = plt.subplots(figsize=(8, 4), ncols=2)\n",
        "\n",
        "print(updated.mus, np.exp(updated.logsigmas), updated.pi)\n",
        "\n",
        "plt.sca(axes[0])\n",
        "plt.plot(losses)\n",
        "\n",
        "plt.sca(axes[1])\n",
        "plt.scatter(g3_data.squeeze(), vmap(g3_model)(g3_data).squeeze(), label=\"True Model Scores\")\n",
        "plt.scatter(g3_data.squeeze(), vmap(updated)(g3_data).squeeze(), label=\"Feed Forward Estimate\");\n",
        "plt.xlabel(\"Support\")\n",
        "plt.ylabel(\"Score\")\n",
        "plt.title(\"True vs. Estimated Score\")\n",
        "plt.legend();"
      ],
      "metadata": {
        "colab": {
          "base_uri": "https://localhost:8080/",
          "height": 427
        },
        "id": "kmelGa-OHqlT",
        "outputId": "2dcb9989-72b6-40c4-a63c-cfc641c4b4a7"
      },
      "execution_count": 32,
      "outputs": [
        {
          "output_type": "stream",
          "name": "stdout",
          "text": [
            "[nan nan nan] [nan nan nan] [nan nan nan]\n"
          ]
        },
        {
          "output_type": "display_data",
          "data": {
            "text/plain": [
              "<Figure size 800x400 with 2 Axes>"
            ],
            "image/png": "[encoded data removed]"
          },
          "metadata": {}
        }
      ]
    },
    {
      "cell_type": "code",
      "source": [
        "mlp_g3 = eqx.nn.MLP(\n",
        "    in_size = 1,\n",
        "    out_size = 1,\n",
        "    width_size = 1024,\n",
        "    depth=2,\n",
        "    key=random.PRNGKey(45),\n",
        "    activation=jax.nn.relu\n",
        ")\n",
        "\n",
        "optimizer = optax.chain(\n",
        "    optax.clip(0.001),\n",
        "    optax.adabelief(learning_rate=1e-4)\n",
        ")\n",
        "\n",
        "g3_mlp, losses = fit(\n",
        "    mlp_mgm,\n",
        "    g3_data,\n",
        "    regularized_loss,\n",
        "    optimizer,\n",
        "    steps=7_500\n",
        ")"
      ],
      "metadata": {
        "colab": {
          "base_uri": "https://localhost:8080/",
          "height": 49,
          "referenced_widgets": [
            "9bb499bc45b94c3db002f2ec071e91e7",
            "8ecc8417f57147e0844c96d7bd7912ff",
            "c3969a47aa1c4910b307c85c66e188a3",
            "6bd4399a5a4a49d7be6f80bc7f7b81b9",
            "0b82d6bb28734d95b29e99323b225680",
            "aaf8fe036240456793dd3572ebd4cdd3",
            "5f90a82e993340ecb4021f8bb395866a",
            "1899ac8712be40e6ad036ab81a3b8db5",
            "af7209d3ccd14ccfb440538f0fc0338c",
            "9089764e24e044a79be597b1bbc41bfd",
            "479d86cceaf247718c4d22df91984ff3"
          ]
        },
        "id": "A1a0TV7qWLje",
        "outputId": "5edbcfa4-fcf0-46ad-ceed-0abf474c9691"
      },
      "execution_count": 27,
      "outputs": [
        {
          "output_type": "display_data",
          "data": {
            "text/plain": [
              "  0%|          | 0/7500 [00:00<?, ?it/s]"
            ],
            "application/vnd.jupyter.widget-view+json": {
              "version_major": 2,
              "version_minor": 0,
              "model_id": "9bb499bc45b94c3db002f2ec071e91e7"
            }
          },
          "metadata": {}
        }
      ]
    },
    {
      "cell_type": "code",
      "source": [
        "true_scores, model_scores = vmap(g3_model)(g3_data).squeeze(), vmap(g3_mlp)(g3_data).squeeze()\n",
        "\n",
        "\n",
        "fig, axes = plt.subplots(figsize=(8, 4), ncols=2)\n",
        "\n",
        "plt.sca(axes[0])\n",
        "plt.plot(losses)\n",
        "plt.xlabel(\"Training Iteration\")\n",
        "plt.ylabel(\"Loss Value\")\n",
        "plt.title(\"Score Matching Loss History\")\n",
        "\n",
        "plt.sca(axes[1])\n",
        "plt.scatter(g3_data.squeeze(), true_scores, label=\"True Model Scores\")\n",
        "plt.scatter(g3_data.squeeze(), model_scores, label=\"Feed Forward Estimate\")\n",
        "plt.xlabel(\"Support\")\n",
        "plt.ylabel(\"Score\")\n",
        "plt.title(\"True vs. Estimated Score\")\n",
        "plt.legend();"
      ],
      "metadata": {
        "colab": {
          "base_uri": "https://localhost:8080/",
          "height": 410
        },
        "id": "5wf22VM9WZJh",
        "outputId": "105a16b2-87b6-4975-d1a5-96635dfe06a3"
      },
      "execution_count": 26,
      "outputs": [
        {
          "output_type": "display_data",
          "data": {
            "text/plain": [
              "<Figure size 800x400 with 2 Axes>"
            ],
            "image/png": "[encoded data removed]"
          },
          "metadata": {}
        }
      ]
    }
  ]
}